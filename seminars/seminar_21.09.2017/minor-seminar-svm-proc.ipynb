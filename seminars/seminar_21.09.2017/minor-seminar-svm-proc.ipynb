{
 "cells": [
  {
   "cell_type": "markdown",
   "metadata": {},
   "source": [
    "# Майнор по Анализу Данных, Группа ИАД-5\n",
    "## 21/09/2017 Метод Опорных Векторов. Практика"
   ]
  },
  {
   "cell_type": "code",
   "execution_count": 3,
   "metadata": {
    "collapsed": true
   },
   "outputs": [],
   "source": [
    "import pandas as pd\n",
    "import numpy as np\n",
    "import matplotlib.pyplot as plt\n",
    "\n",
    "%matplotlib inline\n",
    "\n",
    "plt.style.use('ggplot')\n",
    "plt.rcParams['figure.figsize'] = (12,5)\n",
    "\n",
    "# Для кириллицы на графиках\n",
    "font = {'family': 'Verdana',\n",
    "        'weight': 'normal'}\n",
    "plt.rc('font', **font)\n",
    "\n",
    "try:\n",
    "    from ipywidgets import interact, IntSlider, fixed, FloatSlider\n",
    "except ImportError:\n",
    "    print(u'Так надо')"
   ]
  },
  {
   "cell_type": "markdown",
   "metadata": {},
   "source": [
    "# Практика"
   ]
  },
  {
   "cell_type": "markdown",
   "metadata": {},
   "source": [
    "Загрузите текстовые данные [отсюда](https://archive.ics.uci.edu/ml/machine-learning-databases/00331/). Архив должен содержать 3 файла с положительными и отрицательными отзывами с ресурсов\n",
    "* imdb.com\n",
    "* amazon.com\n",
    "* yelp.com\n",
    "\n",
    "Формат файла следующий:\n",
    "<отзыв>\\t<метка>\\n\n",
    "\n",
    "\n",
    "### Задача\n",
    "1. Загрузите тексты и метки классов в разные переменные\n",
    "2. Выберите меру качества классификации\n",
    "3. Обучите линейный SVM (без подбора гиперпараметров). Тексты представляются в виде мешка слов\n",
    "4. Выведите наиболее значимые слова из текста\n",
    "5. С помощью кросс-валидации и валидационных кривых исследуйте, как различные комбинции параметров влияют на качество"
   ]
  },
  {
   "cell_type": "code",
   "execution_count": 45,
   "metadata": {},
   "outputs": [
    {
     "name": "stdout",
     "output_type": "stream",
     "text": [
      "amazon_cells_labelled.txt readme.txt\r\n",
      "imdb_labelled.txt         yelp_labelled.txt\r\n"
     ]
    }
   ],
   "source": [
    "!ls ./sentiment\\ labelled\\ sentences"
   ]
  },
  {
   "cell_type": "code",
   "execution_count": 47,
   "metadata": {},
   "outputs": [],
   "source": [
    "texts, labels = [], []\n",
    "\n",
    "for line in open('./sentiment labelled sentences/amazon_cells_labelled.txt'):\n",
    "    text, label = line.strip('\\n').split('\\t')\n",
    "    texts.append(text)\n",
    "    labels.append(int(label))"
   ]
  },
  {
   "cell_type": "code",
   "execution_count": 49,
   "metadata": {},
   "outputs": [],
   "source": [
    "from sklearn.feature_extraction.text import TfidfVectorizer\n",
    "from sklearn.pipeline import Pipeline\n",
    "\n",
    "model = Pipeline(\n",
    "[\n",
    "    ('vect', TfidfVectorizer()),\n",
    "    ('svm', SVC(kernel='linear'))\n",
    "])"
   ]
  },
  {
   "cell_type": "code",
   "execution_count": 50,
   "metadata": {},
   "outputs": [
    {
     "data": {
      "text/plain": [
       "Pipeline(steps=[('vect', TfidfVectorizer(analyzer=u'word', binary=False, decode_error=u'strict',\n",
       "        dtype=<type 'numpy.int64'>, encoding=u'utf-8', input=u'content',\n",
       "        lowercase=True, max_df=1.0, max_features=None, min_df=1,\n",
       "        ngram_range=(1, 1), norm=u'l2', preprocessor=None, smooth_idf=True...,\n",
       "  max_iter=-1, probability=False, random_state=None, shrinking=True,\n",
       "  tol=0.001, verbose=False))])"
      ]
     },
     "execution_count": 50,
     "metadata": {},
     "output_type": "execute_result"
    }
   ],
   "source": [
    "model.fit(texts, labels)"
   ]
  },
  {
   "cell_type": "code",
   "execution_count": 54,
   "metadata": {
    "collapsed": true
   },
   "outputs": [],
   "source": [
    "weights = model.steps[1][1].coef_.toarray()[0]\n",
    "words = model.steps[0][1].get_feature_names()"
   ]
  },
  {
   "cell_type": "code",
   "execution_count": 55,
   "metadata": {
    "collapsed": true
   },
   "outputs": [],
   "source": [
    "coefs = pd.Series(index=words, data=weights)"
   ]
  },
  {
   "cell_type": "code",
   "execution_count": 56,
   "metadata": {},
   "outputs": [
    {
     "data": {
      "text/plain": [
       "not             -3.507181\n",
       "first           -1.975821\n",
       "poor            -1.965497\n",
       "doesn           -1.505776\n",
       "bad             -1.485459\n",
       "if              -1.456254\n",
       "none            -1.446073\n",
       "difficult       -1.376058\n",
       "disappointed    -1.374236\n",
       "then            -1.372565\n",
       "unreliable      -1.359178\n",
       "old             -1.344775\n",
       "worst           -1.294790\n",
       "disappointing   -1.292949\n",
       "terrible        -1.290509\n",
       "hear            -1.255339\n",
       "money           -1.162993\n",
       "however         -1.148374\n",
       "don             -1.145519\n",
       "horrible        -1.063185\n",
       "problem         -1.036764\n",
       "within          -1.013970\n",
       "return          -1.007565\n",
       "waste           -1.005096\n",
       "stay            -1.003578\n",
       "buying          -0.996052\n",
       "sucks           -0.976878\n",
       "experience      -0.958927\n",
       "off             -0.953516\n",
       "crap            -0.947778\n",
       "                   ...   \n",
       "all              1.077599\n",
       "car              1.091398\n",
       "rocks            1.125765\n",
       "happy            1.163118\n",
       "awesome          1.169940\n",
       "beautiful        1.170902\n",
       "any              1.173849\n",
       "seems            1.181771\n",
       "setup            1.185614\n",
       "definitely       1.194722\n",
       "worthwhile       1.198160\n",
       "pleased          1.216341\n",
       "exactly          1.236538\n",
       "and              1.242878\n",
       "sturdy           1.324035\n",
       "glad             1.324793\n",
       "perfectly        1.472077\n",
       "without          1.489238\n",
       "comfortable      1.565059\n",
       "well             1.579040\n",
       "recommend        1.776462\n",
       "than             1.781467\n",
       "easy             1.834265\n",
       "excellent        1.876684\n",
       "nice             1.923456\n",
       "love             1.954578\n",
       "works            2.188037\n",
       "best             2.503786\n",
       "good             2.569317\n",
       "great            3.112906\n",
       "dtype: float64"
      ]
     },
     "execution_count": 56,
     "metadata": {},
     "output_type": "execute_result"
    }
   ],
   "source": [
    "coefs.sort_values()"
   ]
  }
 ],
 "metadata": {
  "anaconda-cloud": {},
  "kernelspec": {
   "display_name": "Python [conda root]",
   "language": "python",
   "name": "conda-root-py"
  },
  "language_info": {
   "codemirror_mode": {
    "name": "ipython",
    "version": 2.0
   },
   "file_extension": ".py",
   "mimetype": "text/x-python",
   "name": "python",
   "nbconvert_exporter": "python",
   "pygments_lexer": "ipython2",
   "version": "2.7.13"
  },
  "toc": {
   "colors": {
    "hover_highlight": "#DAA520",
    "navigate_num": "#000000",
    "navigate_text": "#333333",
    "running_highlight": "#FF0000",
    "selected_highlight": "#FFD700",
    "sidebar_border": "#EEEEEE",
    "wrapper_background": "#FFFFFF"
   },
   "moveMenuLeft": true,
   "nav_menu": {
    "height": "179px",
    "width": "252px"
   },
   "navigate_menu": true,
   "number_sections": false,
   "sideBar": true,
   "threshold": 4.0,
   "toc_cell": false,
   "toc_section_display": "block",
   "toc_window_display": false,
   "widenNotebook": false
  }
 },
 "nbformat": 4,
 "nbformat_minor": 0
}