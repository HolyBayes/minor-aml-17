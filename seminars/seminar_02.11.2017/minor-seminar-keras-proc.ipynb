{
 "cells": [
  {
   "cell_type": "markdown",
   "metadata": {},
   "source": [
    "# Майнор по Анализу Данных, Группа ИАД-5\n",
    "## 02/11/2017 Практика с нейронными сетями"
   ]
  },
  {
   "cell_type": "code",
   "execution_count": 2,
   "metadata": {},
   "outputs": [
    {
     "name": "stdout",
     "output_type": "stream",
     "text": [
      "Collecting sklearn\n",
      "  Downloading sklearn-0.0.tar.gz\n",
      "Collecting scikit-learn (from sklearn)\n",
      "  Downloading scikit_learn-0.19.1-cp27-cp27mu-manylinux1_x86_64.whl (12.2MB)\n",
      "\u001b[K    100% |################################| 12.2MB 57kB/s  eta 0:00:01\n",
      "\u001b[?25hBuilding wheels for collected packages: sklearn\n",
      "  Running setup.py bdist_wheel for sklearn ... \u001b[?25ldone\n",
      "\u001b[?25h  Stored in directory: /root/.cache/pip/wheels/d7/db/a3/1b8041ab0be63b5c96c503df8e757cf205c2848cf9ef55f85e\n",
      "Successfully built sklearn\n",
      "Installing collected packages: scikit-learn, sklearn\n",
      "Successfully installed scikit-learn-0.19.1 sklearn-0.0\n",
      "\u001b[33mYou are using pip version 8.1.1, however version 9.0.1 is available.\n",
      "You should consider upgrading via the 'pip install --upgrade pip' command.\u001b[0m\n"
     ]
    }
   ],
   "source": [
    "!pip install sklearn"
   ]
  },
  {
   "cell_type": "code",
   "execution_count": 3,
   "metadata": {},
   "outputs": [],
   "source": [
    "from keras.models import Sequential\n",
    "from keras.layers import Dense\n",
    "\n",
    "import numpy\n",
    "import pandas as pd\n",
    "import matplotlib.pyplot as plt\n",
    "\n",
    "from sklearn.metrics import roc_auc_score, roc_curve\n",
    "from sklearn.preprocessing import StandardScaler\n",
    "from sklearn.model_selection import train_test_split\n",
    "\n",
    "RND_SEED = 7\n",
    "plt.style.use('ggplot')\n",
    "\n",
    "numpy.random.seed(RND_SEED)\n",
    "\n",
    "%matplotlib inline"
   ]
  },
  {
   "cell_type": "markdown",
   "metadata": {},
   "source": [
    "# Классификация"
   ]
  },
  {
   "cell_type": "markdown",
   "metadata": {},
   "source": [
    "## Загрузка данных"
   ]
  },
  {
   "cell_type": "markdown",
   "metadata": {},
   "source": [
    "Для тренеровки мы будем использовать достаточно известный набор данных [Pima Indians](http://archive.ics.uci.edu/ml/datasets/Pima+Indians+Diabetes).\n",
    "\n",
    "Признаки такие: <br\\>\n",
    "1. Number of times pregnant\n",
    "2. Plasma glucose concentration a 2 hours in an oral glucose tolerance test\n",
    "3. Diastolic blood pressure (mm Hg)\n",
    "4. Triceps skin fold thickness (mm)\n",
    "5. 2-Hour serum insulin (mu U/ml)\n",
    "6. Body mass index (weight in kg/(height in m)^2)\n",
    "7. Diabetes pedigree function\n",
    "8. Age (years)\n",
    "9. Class variable (0 or 1)\n"
   ]
  },
  {
   "cell_type": "code",
   "execution_count": 4,
   "metadata": {
    "collapsed": true
   },
   "outputs": [],
   "source": [
    "df = pd.read_csv('http://archive.ics.uci.edu/ml/machine-learning-databases/pima-indians-diabetes/pima-indians-diabetes.data',\n",
    "                 sep=',', header=None)"
   ]
  },
  {
   "cell_type": "code",
   "execution_count": 5,
   "metadata": {},
   "outputs": [
    {
     "data": {
      "text/html": [
       "<div>\n",
       "<style>\n",
       "    .dataframe thead tr:only-child th {\n",
       "        text-align: right;\n",
       "    }\n",
       "\n",
       "    .dataframe thead th {\n",
       "        text-align: left;\n",
       "    }\n",
       "\n",
       "    .dataframe tbody tr th {\n",
       "        vertical-align: top;\n",
       "    }\n",
       "</style>\n",
       "<table border=\"1\" class=\"dataframe\">\n",
       "  <thead>\n",
       "    <tr style=\"text-align: right;\">\n",
       "      <th></th>\n",
       "      <th>0</th>\n",
       "      <th>1</th>\n",
       "      <th>2</th>\n",
       "      <th>3</th>\n",
       "      <th>4</th>\n",
       "      <th>5</th>\n",
       "      <th>6</th>\n",
       "      <th>7</th>\n",
       "      <th>8</th>\n",
       "    </tr>\n",
       "  </thead>\n",
       "  <tbody>\n",
       "    <tr>\n",
       "      <th>0</th>\n",
       "      <td>6</td>\n",
       "      <td>148</td>\n",
       "      <td>72</td>\n",
       "      <td>35</td>\n",
       "      <td>0</td>\n",
       "      <td>33.6</td>\n",
       "      <td>0.627</td>\n",
       "      <td>50</td>\n",
       "      <td>1</td>\n",
       "    </tr>\n",
       "    <tr>\n",
       "      <th>1</th>\n",
       "      <td>1</td>\n",
       "      <td>85</td>\n",
       "      <td>66</td>\n",
       "      <td>29</td>\n",
       "      <td>0</td>\n",
       "      <td>26.6</td>\n",
       "      <td>0.351</td>\n",
       "      <td>31</td>\n",
       "      <td>0</td>\n",
       "    </tr>\n",
       "    <tr>\n",
       "      <th>2</th>\n",
       "      <td>8</td>\n",
       "      <td>183</td>\n",
       "      <td>64</td>\n",
       "      <td>0</td>\n",
       "      <td>0</td>\n",
       "      <td>23.3</td>\n",
       "      <td>0.672</td>\n",
       "      <td>32</td>\n",
       "      <td>1</td>\n",
       "    </tr>\n",
       "    <tr>\n",
       "      <th>3</th>\n",
       "      <td>1</td>\n",
       "      <td>89</td>\n",
       "      <td>66</td>\n",
       "      <td>23</td>\n",
       "      <td>94</td>\n",
       "      <td>28.1</td>\n",
       "      <td>0.167</td>\n",
       "      <td>21</td>\n",
       "      <td>0</td>\n",
       "    </tr>\n",
       "    <tr>\n",
       "      <th>4</th>\n",
       "      <td>0</td>\n",
       "      <td>137</td>\n",
       "      <td>40</td>\n",
       "      <td>35</td>\n",
       "      <td>168</td>\n",
       "      <td>43.1</td>\n",
       "      <td>2.288</td>\n",
       "      <td>33</td>\n",
       "      <td>1</td>\n",
       "    </tr>\n",
       "  </tbody>\n",
       "</table>\n",
       "</div>"
      ],
      "text/plain": [
       "   0    1   2   3    4     5      6   7  8\n",
       "0  6  148  72  35    0  33.6  0.627  50  1\n",
       "1  1   85  66  29    0  26.6  0.351  31  0\n",
       "2  8  183  64   0    0  23.3  0.672  32  1\n",
       "3  1   89  66  23   94  28.1  0.167  21  0\n",
       "4  0  137  40  35  168  43.1  2.288  33  1"
      ]
     },
     "execution_count": 5,
     "metadata": {},
     "output_type": "execute_result"
    }
   ],
   "source": [
    "df.head()"
   ]
  },
  {
   "cell_type": "code",
   "execution_count": 6,
   "metadata": {
    "collapsed": true
   },
   "outputs": [],
   "source": [
    "X, y = df.iloc[:, :8].values, df.iloc[:, 8].values\n",
    "X_train, X_test, y_train, y_test = train_test_split(X, y, test_size=0.2, \n",
    "                                                    random_state=RND_SEED)"
   ]
  },
  {
   "cell_type": "code",
   "execution_count": 7,
   "metadata": {
    "collapsed": true
   },
   "outputs": [],
   "source": [
    "from sklearn.preprocessing import StandardScaler"
   ]
  },
  {
   "cell_type": "code",
   "execution_count": 8,
   "metadata": {
    "collapsed": true
   },
   "outputs": [],
   "source": [
    "sc = StandardScaler().fit(X_train)\n",
    "X_train = sc.transform(X_train)\n",
    "X_test = sc.transform(X_test)"
   ]
  },
  {
   "cell_type": "markdown",
   "metadata": {},
   "source": [
    "## Составляем модель"
   ]
  },
  {
   "cell_type": "markdown",
   "metadata": {},
   "source": [
    "Построим простую 2х (3х) слойную нейронную сеть. Делать это в keras одно удовольствие"
   ]
  },
  {
   "cell_type": "code",
   "execution_count": 9,
   "metadata": {},
   "outputs": [
    {
     "name": "stderr",
     "output_type": "stream",
     "text": [
      "/root/miniconda2/lib/python2.7/site-packages/ipykernel_launcher.py:2: UserWarning: Update your `Dense` call to the Keras 2 API: `Dense(12, activation=\"relu\", kernel_initializer=\"normal\", input_dim=8)`\n",
      "  \n",
      "/root/miniconda2/lib/python2.7/site-packages/ipykernel_launcher.py:3: UserWarning: Update your `Dense` call to the Keras 2 API: `Dense(8, activation=\"relu\", kernel_initializer=\"normal\")`\n",
      "  This is separate from the ipykernel package so we can avoid doing imports until\n",
      "/root/miniconda2/lib/python2.7/site-packages/ipykernel_launcher.py:4: UserWarning: Update your `Dense` call to the Keras 2 API: `Dense(1, activation=\"sigmoid\", kernel_initializer=\"uniform\")`\n",
      "  after removing the cwd from sys.path.\n"
     ]
    }
   ],
   "source": [
    "model = Sequential()\n",
    "model.add(Dense(12, input_dim=8, init='normal', activation='relu'))\n",
    "model.add(Dense(8, init='normal', activation='relu'))\n",
    "model.add(Dense(1, init='uniform', activation='sigmoid'))"
   ]
  },
  {
   "cell_type": "markdown",
   "metadata": {},
   "source": [
    "Теперь надо задать функцию [ошибки](https://keras.io/objectives/), способ [оптимизации](https://keras.io/optimizers/) и метрику измерения [качества](https://keras.io/metrics/):"
   ]
  },
  {
   "cell_type": "code",
   "execution_count": 10,
   "metadata": {
    "collapsed": true
   },
   "outputs": [],
   "source": [
    "from keras.optimizers import SGD"
   ]
  },
  {
   "cell_type": "code",
   "execution_count": 11,
   "metadata": {
    "collapsed": true
   },
   "outputs": [],
   "source": [
    "# Compile model\n",
    "model.compile(loss='binary_crossentropy',\n",
    "              optimizer='sgd', \n",
    "              metrics=['accuracy'])"
   ]
  },
  {
   "cell_type": "markdown",
   "metadata": {},
   "source": [
    "## Обучаем"
   ]
  },
  {
   "cell_type": "code",
   "execution_count": 12,
   "metadata": {
    "scrolled": true
   },
   "outputs": [
    {
     "name": "stderr",
     "output_type": "stream",
     "text": [
      "/root/miniconda2/lib/python2.7/site-packages/keras/models.py:848: UserWarning: The `nb_epoch` argument in `fit` has been renamed `epochs`.\n",
      "  warnings.warn('The `nb_epoch` argument in `fit` '\n"
     ]
    },
    {
     "data": {
      "text/plain": [
       "<keras.callbacks.History at 0x7f0aba62fe50>"
      ]
     },
     "execution_count": 12,
     "metadata": {},
     "output_type": "execute_result"
    }
   ],
   "source": [
    "# Fit the model\n",
    "model.fit(X_train, y_train, \n",
    "          nb_epoch=500, \n",
    "          batch_size=50, \n",
    "          verbose=0)"
   ]
  },
  {
   "cell_type": "markdown",
   "metadata": {},
   "source": [
    "## Оценка качества"
   ]
  },
  {
   "cell_type": "code",
   "execution_count": 13,
   "metadata": {
    "scrolled": true
   },
   "outputs": [
    {
     "name": "stdout",
     "output_type": "stream",
     "text": [
      " 32/154 [=====>........................] - ETA: 0sacc: 78.57%\n"
     ]
    }
   ],
   "source": [
    "scores = model.evaluate(X_test, y_test)\n",
    "print(\"%s: %.2f%%\" % (model.metrics_names[1], scores[1]*100))"
   ]
  },
  {
   "cell_type": "code",
   "execution_count": 14,
   "metadata": {
    "collapsed": true
   },
   "outputs": [],
   "source": [
    "y_hat = model.predict(X_test).flatten()"
   ]
  },
  {
   "cell_type": "code",
   "execution_count": 15,
   "metadata": {},
   "outputs": [
    {
     "data": {
      "text/plain": [
       "array([ 0.12485517,  0.85288078,  0.77516389,  0.15957871,  0.33301044,\n",
       "        0.4974491 ,  0.12491731,  0.33092454,  0.94426787,  0.14519519], dtype=float32)"
      ]
     },
     "execution_count": 15,
     "metadata": {},
     "output_type": "execute_result"
    }
   ],
   "source": [
    "y_hat[:10]"
   ]
  },
  {
   "cell_type": "markdown",
   "metadata": {},
   "source": [
    "Постройте ROC-кривые для обучающей и контрольной выборки. Есть ли переобучение?"
   ]
  },
  {
   "cell_type": "code",
   "execution_count": 16,
   "metadata": {},
   "outputs": [
    {
     "data": {
      "text/plain": [
       "[<matplotlib.lines.Line2D at 0x7f0ab4b5c1d0>]"
      ]
     },
     "execution_count": 16,
     "metadata": {},
     "output_type": "execute_result"
    },
    {
     "data": {
      "image/png": "[encoded data removed]",
      "text/plain": [
       "<matplotlib.figure.Figure at 0x7f0ab4b5c150>"
      ]
     },
     "metadata": {},
     "output_type": "display_data"
    }
   ],
   "source": [
    "fpr, tpr, _ = roc_curve(y_test, y_hat, )\n",
    "plt.plot(fpr, tpr, label='test')\n",
    "\n",
    "y_hat_train = model.predict(X_train).flatten()\n",
    "fpr, tpr, _ = roc_curve(y_train, y_hat_train, )\n",
    "plt.plot(fpr, tpr, label='train')"
   ]
  },
  {
   "cell_type": "markdown",
   "metadata": {},
   "source": [
    "# Регрессия"
   ]
  },
  {
   "cell_type": "markdown",
   "metadata": {},
   "source": [
    "Будем строить регрессию на данных [Boston Housing Data Set](https://archive.ics.uci.edu/ml/datasets/Housing)\n",
    "\n",
    "Описание:<br\\>\n",
    "1. CRIM: per capita crime rate by town\n",
    "2. ZN: proportion of residential land zoned for lots over 25,000 sq.ft.\n",
    "3. INDUS: proportion of non-retail business acres per town\n",
    "4. CHAS: Charles River dummy variable (= 1 if tract bounds river; 0 otherwise)\n",
    "5. NOX: nitric oxides concentration (parts per 10 million)\n",
    "6. RM: average number of rooms per dwelling\n",
    "7. AGE: proportion of owner-occupied units built prior to 1940\n",
    "8. DIS: weighted distances to five Boston employment centres\n",
    "9. RAD: index of accessibility to radial highways\n",
    "10. TAX: full-value property-tax rate per 10,000 USD\n",
    "11. PTRATIO: pupil-teacher ratio by town\n",
    "12. B: 1000(Bk - 0.63)^2 where Bk is the proportion of blacks by town\n",
    "13. LSTAT: lower status of the population\n",
    "14. MEDV: Median value of owner-occupied homes in 1000's USD"
   ]
  },
  {
   "cell_type": "markdown",
   "metadata": {},
   "source": [
    "Весь pipeline практически повторяется. Ну и повторим."
   ]
  },
  {
   "cell_type": "code",
   "execution_count": 77,
   "metadata": {
    "collapsed": true
   },
   "outputs": [],
   "source": [
    "from sklearn import datasets"
   ]
  },
  {
   "cell_type": "code",
   "execution_count": 78,
   "metadata": {
    "collapsed": true
   },
   "outputs": [],
   "source": [
    "boston = datasets.load_boston()"
   ]
  },
  {
   "cell_type": "code",
   "execution_count": 81,
   "metadata": {
    "collapsed": true
   },
   "outputs": [],
   "source": [
    "y = boston.target"
   ]
  },
  {
   "cell_type": "code",
   "execution_count": 82,
   "metadata": {
    "collapsed": true
   },
   "outputs": [],
   "source": [
    "X = boston.data"
   ]
  },
  {
   "cell_type": "code",
   "execution_count": 84,
   "metadata": {
    "collapsed": true
   },
   "outputs": [],
   "source": [
    "X_train, X_test, y_train, y_test = train_test_split(X, y, test_size=0.2, \n",
    "                                                    random_state=RND_SEED)"
   ]
  },
  {
   "cell_type": "code",
   "execution_count": 85,
   "metadata": {
    "collapsed": true
   },
   "outputs": [],
   "source": [
    "sc = StandardScaler().fit(X_train)\n",
    "X_train = sc.transform(X_train)\n",
    "X_test = sc.transform(X_test)"
   ]
  },
  {
   "cell_type": "markdown",
   "metadata": {},
   "source": [
    "## Составляем модель"
   ]
  },
  {
   "cell_type": "markdown",
   "metadata": {},
   "source": [
    "Построим простую 2х (3х) слойную нейронную сеть. Делать это в keras одно удовольствие"
   ]
  },
  {
   "cell_type": "code",
   "execution_count": 90,
   "metadata": {
    "collapsed": true
   },
   "outputs": [],
   "source": [
    "model = Sequential()\n",
    "model.add(Dense(12, input_dim=13, init='normal', activation='relu'))\n",
    "model.add(Dense(8, init='normal', activation='relu'))\n",
    "model.add(Dense(1, init='normal', activation='linear'))"
   ]
  },
  {
   "cell_type": "markdown",
   "metadata": {},
   "source": [
    "Теперь надо задать функцию [ошибки](https://keras.io/objectives/), способ [оптимизации](https://keras.io/optimizers/) и метрику измерения [качества](https://keras.io/metrics/):"
   ]
  },
  {
   "cell_type": "code",
   "execution_count": 91,
   "metadata": {
    "collapsed": true
   },
   "outputs": [],
   "source": [
    "from keras.optimizers import SGD"
   ]
  },
  {
   "cell_type": "code",
   "execution_count": 92,
   "metadata": {
    "collapsed": true
   },
   "outputs": [],
   "source": [
    "# Compile model\n",
    "model.compile(loss='mean_squared_error',\n",
    "              optimizer='sgd', \n",
    "              metrics=['mean_squared_error'])"
   ]
  },
  {
   "cell_type": "markdown",
   "metadata": {},
   "source": [
    "## Обучаем"
   ]
  },
  {
   "cell_type": "code",
   "execution_count": 17,
   "metadata": {
    "scrolled": true
   },
   "outputs": [
    {
     "name": "stdout",
     "output_type": "stream",
     "text": [
      "Epoch 1/500\n",
      "614/614 [==============================] - 0s - loss: 0.4720 - acc: 0.7801     \n",
      "Epoch 2/500\n",
      "614/614 [==============================] - 0s - loss: 0.4718 - acc: 0.7801     \n",
      "Epoch 3/500\n",
      "614/614 [==============================] - 0s - loss: 0.4718 - acc: 0.7801     \n",
      "Epoch 4/500\n",
      "614/614 [==============================] - 0s - loss: 0.4716 - acc: 0.7818     \n",
      "Epoch 5/500\n",
      "614/614 [==============================] - 0s - loss: 0.4715 - acc: 0.7801     \n",
      "Epoch 6/500\n",
      "614/614 [==============================] - 0s - loss: 0.4714 - acc: 0.7801     \n",
      "Epoch 7/500\n",
      "614/614 [==============================] - 0s - loss: 0.4713 - acc: 0.7769     \n",
      "Epoch 8/500\n",
      "614/614 [==============================] - 0s - loss: 0.4712 - acc: 0.7818     \n",
      "Epoch 9/500\n",
      "614/614 [==============================] - 0s - loss: 0.4712 - acc: 0.7801     \n",
      "Epoch 10/500\n",
      "614/614 [==============================] - 0s - loss: 0.4710 - acc: 0.7818     \n",
      "Epoch 11/500\n",
      "614/614 [==============================] - 0s - loss: 0.4709 - acc: 0.7801     \n",
      "Epoch 12/500\n",
      "614/614 [==============================] - 0s - loss: 0.4708 - acc: 0.7801     \n",
      "Epoch 13/500\n",
      "614/614 [==============================] - 0s - loss: 0.4706 - acc: 0.7769     \n",
      "Epoch 14/500\n",
      "614/614 [==============================] - 0s - loss: 0.4705 - acc: 0.7785     \n",
      "Epoch 15/500\n",
      "614/614 [==============================] - 0s - loss: 0.4704 - acc: 0.7769     \n",
      "Epoch 16/500\n",
      "614/614 [==============================] - 0s - loss: 0.4702 - acc: 0.7769     \n",
      "Epoch 17/500\n",
      "614/614 [==============================] - 0s - loss: 0.4702 - acc: 0.7801     \n",
      "Epoch 18/500\n",
      "614/614 [==============================] - 0s - loss: 0.4702 - acc: 0.7801     \n",
      "Epoch 19/500\n",
      "614/614 [==============================] - 0s - loss: 0.4700 - acc: 0.7769     \n",
      "Epoch 20/500\n",
      "614/614 [==============================] - 0s - loss: 0.4699 - acc: 0.7769     \n",
      "Epoch 21/500\n",
      "614/614 [==============================] - 0s - loss: 0.4699 - acc: 0.7769     \n",
      "Epoch 22/500\n",
      "614/614 [==============================] - 0s - loss: 0.4695 - acc: 0.7801     \n",
      "Epoch 23/500\n",
      "614/614 [==============================] - 0s - loss: 0.4695 - acc: 0.7769     \n",
      "Epoch 24/500\n",
      "614/614 [==============================] - 0s - loss: 0.4694 - acc: 0.7769     \n",
      "Epoch 25/500\n",
      "614/614 [==============================] - 0s - loss: 0.4693 - acc: 0.7769     \n",
      "Epoch 26/500\n",
      "614/614 [==============================] - 0s - loss: 0.4692 - acc: 0.7818     \n",
      "Epoch 27/500\n",
      "614/614 [==============================] - 0s - loss: 0.4691 - acc: 0.7769     \n",
      "Epoch 28/500\n",
      "614/614 [==============================] - 0s - loss: 0.4689 - acc: 0.7785     \n",
      "Epoch 29/500\n",
      "614/614 [==============================] - 0s - loss: 0.4688 - acc: 0.7769     \n",
      "Epoch 30/500\n",
      "614/614 [==============================] - 0s - loss: 0.4689 - acc: 0.7769     \n",
      "Epoch 31/500\n",
      "614/614 [==============================] - 0s - loss: 0.4687 - acc: 0.7785     \n",
      "Epoch 32/500\n",
      "614/614 [==============================] - 0s - loss: 0.4686 - acc: 0.7769     \n",
      "Epoch 33/500\n",
      "614/614 [==============================] - 0s - loss: 0.4684 - acc: 0.7769     \n",
      "Epoch 34/500\n",
      "614/614 [==============================] - 0s - loss: 0.4683 - acc: 0.7801     \n",
      "Epoch 35/500\n",
      "614/614 [==============================] - 0s - loss: 0.4682 - acc: 0.7801     \n",
      "Epoch 36/500\n",
      "614/614 [==============================] - 0s - loss: 0.4682 - acc: 0.7801     \n",
      "Epoch 37/500\n",
      "614/614 [==============================] - 0s - loss: 0.4680 - acc: 0.7801     \n",
      "Epoch 38/500\n",
      "614/614 [==============================] - 0s - loss: 0.4680 - acc: 0.7785     \n",
      "Epoch 39/500\n",
      "614/614 [==============================] - 0s - loss: 0.4678 - acc: 0.7818     \n",
      "Epoch 40/500\n",
      "614/614 [==============================] - 0s - loss: 0.4678 - acc: 0.7785     \n",
      "Epoch 41/500\n",
      "614/614 [==============================] - 0s - loss: 0.4677 - acc: 0.7801     \n",
      "Epoch 42/500\n",
      "614/614 [==============================] - 0s - loss: 0.4676 - acc: 0.7801     \n",
      "Epoch 43/500\n",
      "614/614 [==============================] - 0s - loss: 0.4677 - acc: 0.7834     \n",
      "Epoch 44/500\n",
      "614/614 [==============================] - 0s - loss: 0.4674 - acc: 0.7801     \n",
      "Epoch 45/500\n",
      "614/614 [==============================] - 0s - loss: 0.4673 - acc: 0.7818     \n",
      "Epoch 46/500\n",
      "614/614 [==============================] - 0s - loss: 0.4673 - acc: 0.7801     \n",
      "Epoch 47/500\n",
      "614/614 [==============================] - 0s - loss: 0.4671 - acc: 0.7785     \n",
      "Epoch 48/500\n",
      "614/614 [==============================] - 0s - loss: 0.4669 - acc: 0.7801     \n",
      "Epoch 49/500\n",
      "614/614 [==============================] - 0s - loss: 0.4669 - acc: 0.7785     \n",
      "Epoch 50/500\n",
      "614/614 [==============================] - 0s - loss: 0.4668 - acc: 0.7769     \n",
      "Epoch 51/500\n",
      "614/614 [==============================] - 0s - loss: 0.4667 - acc: 0.7801     \n",
      "Epoch 52/500\n",
      "614/614 [==============================] - 0s - loss: 0.4665 - acc: 0.7801     \n",
      "Epoch 53/500\n",
      "614/614 [==============================] - 0s - loss: 0.4665 - acc: 0.7785     \n",
      "Epoch 54/500\n",
      "614/614 [==============================] - 0s - loss: 0.4664 - acc: 0.7801     \n",
      "Epoch 55/500\n",
      "614/614 [==============================] - 0s - loss: 0.4663 - acc: 0.7785     \n",
      "Epoch 56/500\n",
      "614/614 [==============================] - 0s - loss: 0.4664 - acc: 0.7801     \n",
      "Epoch 57/500\n",
      "614/614 [==============================] - 0s - loss: 0.4661 - acc: 0.7785     \n",
      "Epoch 58/500\n",
      "614/614 [==============================] - ETA: 0s - loss: 0.3742 - acc: 0.800 - 0s - loss: 0.4661 - acc: 0.7785     \n",
      "Epoch 59/500\n",
      "614/614 [==============================] - 0s - loss: 0.4659 - acc: 0.7769     \n",
      "Epoch 60/500\n",
      "614/614 [==============================] - 0s - loss: 0.4658 - acc: 0.7769     \n",
      "Epoch 61/500\n",
      "614/614 [==============================] - 0s - loss: 0.4657 - acc: 0.7785     \n",
      "Epoch 62/500\n",
      "614/614 [==============================] - 0s - loss: 0.4655 - acc: 0.7769     \n",
      "Epoch 63/500\n",
      "614/614 [==============================] - 0s - loss: 0.4655 - acc: 0.7801     \n",
      "Epoch 64/500\n",
      "614/614 [==============================] - 0s - loss: 0.4654 - acc: 0.7769     \n",
      "Epoch 65/500\n",
      "614/614 [==============================] - 0s - loss: 0.4653 - acc: 0.7769     \n",
      "Epoch 66/500\n",
      "614/614 [==============================] - 0s - loss: 0.4653 - acc: 0.7752     \n",
      "Epoch 67/500\n",
      "614/614 [==============================] - 0s - loss: 0.4651 - acc: 0.7801     \n",
      "Epoch 68/500\n",
      "614/614 [==============================] - 0s - loss: 0.4649 - acc: 0.7785     \n",
      "Epoch 69/500\n",
      "614/614 [==============================] - 0s - loss: 0.4650 - acc: 0.7785     \n",
      "Epoch 70/500\n",
      "614/614 [==============================] - 0s - loss: 0.4649 - acc: 0.7785     \n",
      "Epoch 71/500\n",
      "614/614 [==============================] - 0s - loss: 0.4646 - acc: 0.7785     \n",
      "Epoch 72/500\n",
      "614/614 [==============================] - 0s - loss: 0.4647 - acc: 0.7785     \n",
      "Epoch 73/500\n",
      "614/614 [==============================] - 0s - loss: 0.4645 - acc: 0.7752     \n",
      "Epoch 74/500\n",
      "614/614 [==============================] - 0s - loss: 0.4646 - acc: 0.7785     \n",
      "Epoch 75/500\n",
      "614/614 [==============================] - 0s - loss: 0.4644 - acc: 0.7801     \n",
      "Epoch 76/500\n",
      "614/614 [==============================] - 0s - loss: 0.4642 - acc: 0.7801     \n",
      "Epoch 77/500\n",
      "614/614 [==============================] - 0s - loss: 0.4642 - acc: 0.7801     \n",
      "Epoch 78/500\n",
      "614/614 [==============================] - 0s - loss: 0.4641 - acc: 0.7801     \n",
      "Epoch 79/500\n",
      "614/614 [==============================] - 0s - loss: 0.4640 - acc: 0.7801     \n",
      "Epoch 80/500\n",
      "614/614 [==============================] - 0s - loss: 0.4640 - acc: 0.7801     \n",
      "Epoch 81/500\n",
      "614/614 [==============================] - 0s - loss: 0.4638 - acc: 0.7785     \n",
      "Epoch 82/500\n",
      "614/614 [==============================] - 0s - loss: 0.4637 - acc: 0.7801     \n",
      "Epoch 83/500\n",
      "614/614 [==============================] - 0s - loss: 0.4636 - acc: 0.7785     \n",
      "Epoch 84/500\n",
      "614/614 [==============================] - 0s - loss: 0.4637 - acc: 0.7801     \n",
      "Epoch 85/500\n",
      "614/614 [==============================] - 0s - loss: 0.4635 - acc: 0.7801     \n",
      "Epoch 86/500\n",
      "614/614 [==============================] - 0s - loss: 0.4635 - acc: 0.7785     \n",
      "Epoch 87/500\n",
      "614/614 [==============================] - 0s - loss: 0.4635 - acc: 0.7769     \n",
      "Epoch 88/500\n"
     ]
    },
    {
     "name": "stdout",
     "output_type": "stream",
     "text": [
      "614/614 [==============================] - 0s - loss: 0.4633 - acc: 0.7801     \n",
      "Epoch 89/500\n",
      "614/614 [==============================] - 0s - loss: 0.4631 - acc: 0.7769     \n",
      "Epoch 90/500\n",
      "614/614 [==============================] - 0s - loss: 0.4630 - acc: 0.7801     \n",
      "Epoch 91/500\n",
      "614/614 [==============================] - 0s - loss: 0.4629 - acc: 0.7785     \n",
      "Epoch 92/500\n",
      "614/614 [==============================] - 0s - loss: 0.4629 - acc: 0.7801     \n",
      "Epoch 93/500\n",
      "614/614 [==============================] - 0s - loss: 0.4629 - acc: 0.7801     \n",
      "Epoch 94/500\n",
      "614/614 [==============================] - 0s - loss: 0.4627 - acc: 0.7785     \n",
      "Epoch 95/500\n",
      "614/614 [==============================] - 0s - loss: 0.4626 - acc: 0.7801     \n",
      "Epoch 96/500\n",
      "614/614 [==============================] - 0s - loss: 0.4626 - acc: 0.7801     \n",
      "Epoch 97/500\n",
      "614/614 [==============================] - 0s - loss: 0.4625 - acc: 0.7818     \n",
      "Epoch 98/500\n",
      "614/614 [==============================] - 0s - loss: 0.4624 - acc: 0.7801     \n",
      "Epoch 99/500\n",
      "614/614 [==============================] - 0s - loss: 0.4624 - acc: 0.7801     \n",
      "Epoch 100/500\n",
      "614/614 [==============================] - 0s - loss: 0.4624 - acc: 0.7769     \n",
      "Epoch 101/500\n",
      "614/614 [==============================] - 0s - loss: 0.4622 - acc: 0.7769     \n",
      "Epoch 102/500\n",
      "614/614 [==============================] - 0s - loss: 0.4620 - acc: 0.7785     \n",
      "Epoch 103/500\n",
      "614/614 [==============================] - 0s - loss: 0.4620 - acc: 0.7769     \n",
      "Epoch 104/500\n",
      "614/614 [==============================] - 0s - loss: 0.4620 - acc: 0.7769     \n",
      "Epoch 105/500\n",
      "614/614 [==============================] - 0s - loss: 0.4619 - acc: 0.7785     \n",
      "Epoch 106/500\n",
      "614/614 [==============================] - 0s - loss: 0.4617 - acc: 0.7801     \n",
      "Epoch 107/500\n",
      "614/614 [==============================] - 0s - loss: 0.4616 - acc: 0.7801     \n",
      "Epoch 108/500\n",
      "614/614 [==============================] - 0s - loss: 0.4616 - acc: 0.7801     \n",
      "Epoch 109/500\n",
      "614/614 [==============================] - 0s - loss: 0.4615 - acc: 0.7801     \n",
      "Epoch 110/500\n",
      "614/614 [==============================] - 0s - loss: 0.4614 - acc: 0.7785     \n",
      "Epoch 111/500\n",
      "614/614 [==============================] - ETA: 0s - loss: 0.4832 - acc: 0.740 - 0s - loss: 0.4613 - acc: 0.7818     \n",
      "Epoch 112/500\n",
      "614/614 [==============================] - 0s - loss: 0.4612 - acc: 0.7818     \n",
      "Epoch 113/500\n",
      "614/614 [==============================] - 0s - loss: 0.4611 - acc: 0.7801     \n",
      "Epoch 114/500\n",
      "614/614 [==============================] - 0s - loss: 0.4613 - acc: 0.7785     \n",
      "Epoch 115/500\n",
      "614/614 [==============================] - 0s - loss: 0.4610 - acc: 0.7801     \n",
      "Epoch 116/500\n",
      "614/614 [==============================] - 0s - loss: 0.4610 - acc: 0.7818     \n",
      "Epoch 117/500\n",
      "614/614 [==============================] - 0s - loss: 0.4608 - acc: 0.7818     \n",
      "Epoch 118/500\n",
      "614/614 [==============================] - 0s - loss: 0.4609 - acc: 0.7818     \n",
      "Epoch 119/500\n",
      "614/614 [==============================] - 0s - loss: 0.4607 - acc: 0.7818     \n",
      "Epoch 120/500\n",
      "614/614 [==============================] - 0s - loss: 0.4606 - acc: 0.7818     \n",
      "Epoch 121/500\n",
      "614/614 [==============================] - 0s - loss: 0.4605 - acc: 0.7818     \n",
      "Epoch 122/500\n",
      "614/614 [==============================] - 0s - loss: 0.4604 - acc: 0.7818     \n",
      "Epoch 123/500\n",
      "614/614 [==============================] - 0s - loss: 0.4604 - acc: 0.7850     \n",
      "Epoch 124/500\n",
      "614/614 [==============================] - 0s - loss: 0.4602 - acc: 0.7834     \n",
      "Epoch 125/500\n",
      "614/614 [==============================] - 0s - loss: 0.4601 - acc: 0.7801     \n",
      "Epoch 126/500\n",
      "614/614 [==============================] - 0s - loss: 0.4600 - acc: 0.7818     \n",
      "Epoch 127/500\n",
      "614/614 [==============================] - 0s - loss: 0.4600 - acc: 0.7818     \n",
      "Epoch 128/500\n",
      "614/614 [==============================] - 0s - loss: 0.4600 - acc: 0.7834     \n",
      "Epoch 129/500\n",
      "614/614 [==============================] - 0s - loss: 0.4599 - acc: 0.7834     \n",
      "Epoch 130/500\n",
      "614/614 [==============================] - 0s - loss: 0.4598 - acc: 0.7818     \n",
      "Epoch 131/500\n",
      "614/614 [==============================] - 0s - loss: 0.4597 - acc: 0.7834     \n",
      "Epoch 132/500\n",
      "614/614 [==============================] - 0s - loss: 0.4596 - acc: 0.7818     \n",
      "Epoch 133/500\n",
      "614/614 [==============================] - 0s - loss: 0.4596 - acc: 0.7801     \n",
      "Epoch 134/500\n",
      "614/614 [==============================] - 0s - loss: 0.4594 - acc: 0.7818     \n",
      "Epoch 135/500\n",
      "614/614 [==============================] - 0s - loss: 0.4593 - acc: 0.7818     \n",
      "Epoch 136/500\n",
      "614/614 [==============================] - 0s - loss: 0.4593 - acc: 0.7818     \n",
      "Epoch 137/500\n",
      "614/614 [==============================] - 0s - loss: 0.4592 - acc: 0.7801     \n",
      "Epoch 138/500\n",
      "614/614 [==============================] - 0s - loss: 0.4591 - acc: 0.7834     \n",
      "Epoch 139/500\n",
      "614/614 [==============================] - 0s - loss: 0.4589 - acc: 0.7801     \n",
      "Epoch 140/500\n",
      "614/614 [==============================] - 0s - loss: 0.4588 - acc: 0.7834     \n",
      "Epoch 141/500\n",
      "614/614 [==============================] - 0s - loss: 0.4588 - acc: 0.7818     \n",
      "Epoch 142/500\n",
      "614/614 [==============================] - 0s - loss: 0.4587 - acc: 0.7834     \n",
      "Epoch 143/500\n",
      "614/614 [==============================] - 0s - loss: 0.4586 - acc: 0.7801     \n",
      "Epoch 144/500\n",
      "614/614 [==============================] - 0s - loss: 0.4588 - acc: 0.7834     \n",
      "Epoch 145/500\n",
      "614/614 [==============================] - 0s - loss: 0.4586 - acc: 0.7785     \n",
      "Epoch 146/500\n",
      "614/614 [==============================] - 0s - loss: 0.4584 - acc: 0.7769     \n",
      "Epoch 147/500\n",
      "614/614 [==============================] - 0s - loss: 0.4584 - acc: 0.7785     \n",
      "Epoch 148/500\n",
      "614/614 [==============================] - 0s - loss: 0.4583 - acc: 0.7818     \n",
      "Epoch 149/500\n",
      "614/614 [==============================] - 0s - loss: 0.4583 - acc: 0.7785     \n",
      "Epoch 150/500\n",
      "614/614 [==============================] - 0s - loss: 0.4581 - acc: 0.7801     \n",
      "Epoch 151/500\n",
      "614/614 [==============================] - 0s - loss: 0.4579 - acc: 0.7785     \n",
      "Epoch 152/500\n",
      "614/614 [==============================] - 0s - loss: 0.4579 - acc: 0.7818     \n",
      "Epoch 153/500\n",
      "614/614 [==============================] - 0s - loss: 0.4578 - acc: 0.7801     \n",
      "Epoch 154/500\n",
      "614/614 [==============================] - 0s - loss: 0.4577 - acc: 0.7801     \n",
      "Epoch 155/500\n",
      "614/614 [==============================] - ETA: 0s - loss: 0.4658 - acc: 0.760 - 0s - loss: 0.4577 - acc: 0.7801     \n",
      "Epoch 156/500\n",
      "614/614 [==============================] - 0s - loss: 0.4575 - acc: 0.7818     \n",
      "Epoch 157/500\n",
      "614/614 [==============================] - 0s - loss: 0.4573 - acc: 0.7818     \n",
      "Epoch 158/500\n",
      "614/614 [==============================] - ETA: 0s - loss: 0.5620 - acc: 0.680 - 0s - loss: 0.4573 - acc: 0.7785     \n",
      "Epoch 159/500\n",
      "614/614 [==============================] - 0s - loss: 0.4572 - acc: 0.7834     \n",
      "Epoch 160/500\n",
      "614/614 [==============================] - 0s - loss: 0.4571 - acc: 0.7818     \n",
      "Epoch 161/500\n",
      "614/614 [==============================] - ETA: 0s - loss: 0.4032 - acc: 0.800 - 0s - loss: 0.4570 - acc: 0.7818     \n",
      "Epoch 162/500\n",
      "614/614 [==============================] - 0s - loss: 0.4568 - acc: 0.7801     \n",
      "Epoch 163/500\n",
      "614/614 [==============================] - 0s - loss: 0.4568 - acc: 0.7801     \n",
      "Epoch 164/500\n",
      "614/614 [==============================] - 0s - loss: 0.4567 - acc: 0.7801     \n",
      "Epoch 165/500\n",
      "614/614 [==============================] - 0s - loss: 0.4565 - acc: 0.7785     \n",
      "Epoch 166/500\n",
      "614/614 [==============================] - 0s - loss: 0.4566 - acc: 0.7801     \n",
      "Epoch 167/500\n",
      "614/614 [==============================] - 0s - loss: 0.4564 - acc: 0.7785     \n",
      "Epoch 168/500\n",
      "614/614 [==============================] - 0s - loss: 0.4567 - acc: 0.7818     \n",
      "Epoch 169/500\n",
      "614/614 [==============================] - 0s - loss: 0.4561 - acc: 0.7818     \n",
      "Epoch 170/500\n",
      "614/614 [==============================] - 0s - loss: 0.4562 - acc: 0.7834     \n",
      "Epoch 171/500\n",
      "614/614 [==============================] - 0s - loss: 0.4561 - acc: 0.7834     \n",
      "Epoch 172/500\n",
      "614/614 [==============================] - 0s - loss: 0.4561 - acc: 0.7834     \n",
      "Epoch 173/500\n"
     ]
    },
    {
     "name": "stdout",
     "output_type": "stream",
     "text": [
      "614/614 [==============================] - 0s - loss: 0.4560 - acc: 0.7818     \n",
      "Epoch 174/500\n",
      "614/614 [==============================] - 0s - loss: 0.4558 - acc: 0.7834     \n",
      "Epoch 175/500\n",
      "614/614 [==============================] - 0s - loss: 0.4557 - acc: 0.7834     \n",
      "Epoch 176/500\n",
      "614/614 [==============================] - 0s - loss: 0.4555 - acc: 0.7818     \n",
      "Epoch 177/500\n",
      "614/614 [==============================] - 0s - loss: 0.4553 - acc: 0.7850     \n",
      "Epoch 178/500\n",
      "614/614 [==============================] - 0s - loss: 0.4554 - acc: 0.7834     \n",
      "Epoch 179/500\n",
      "614/614 [==============================] - 0s - loss: 0.4552 - acc: 0.7834     \n",
      "Epoch 180/500\n",
      "614/614 [==============================] - 0s - loss: 0.4552 - acc: 0.7834     \n",
      "Epoch 181/500\n",
      "614/614 [==============================] - 0s - loss: 0.4552 - acc: 0.7834     \n",
      "Epoch 182/500\n",
      "614/614 [==============================] - 0s - loss: 0.4550 - acc: 0.7818     \n",
      "Epoch 183/500\n",
      "614/614 [==============================] - 0s - loss: 0.4549 - acc: 0.7834     \n",
      "Epoch 184/500\n",
      "614/614 [==============================] - 0s - loss: 0.4548 - acc: 0.7834     \n",
      "Epoch 185/500\n",
      "614/614 [==============================] - ETA: 0s - loss: 0.4372 - acc: 0.800 - 0s - loss: 0.4546 - acc: 0.7834     \n",
      "Epoch 186/500\n",
      "614/614 [==============================] - 0s - loss: 0.4546 - acc: 0.7834     \n",
      "Epoch 187/500\n",
      "614/614 [==============================] - 0s - loss: 0.4545 - acc: 0.7834     \n",
      "Epoch 188/500\n",
      "614/614 [==============================] - 0s - loss: 0.4544 - acc: 0.7834     \n",
      "Epoch 189/500\n",
      "614/614 [==============================] - 0s - loss: 0.4544 - acc: 0.7834     \n",
      "Epoch 190/500\n",
      "614/614 [==============================] - 0s - loss: 0.4544 - acc: 0.7834     \n",
      "Epoch 191/500\n",
      "614/614 [==============================] - ETA: 0s - loss: 0.3760 - acc: 0.800 - 0s - loss: 0.4543 - acc: 0.7834     \n",
      "Epoch 192/500\n",
      "614/614 [==============================] - 0s - loss: 0.4541 - acc: 0.7801     \n",
      "Epoch 193/500\n",
      "614/614 [==============================] - 0s - loss: 0.4541 - acc: 0.7801     \n",
      "Epoch 194/500\n",
      "614/614 [==============================] - 0s - loss: 0.4539 - acc: 0.7834     \n",
      "Epoch 195/500\n",
      "614/614 [==============================] - 0s - loss: 0.4539 - acc: 0.7834     \n",
      "Epoch 196/500\n",
      "614/614 [==============================] - 0s - loss: 0.4538 - acc: 0.7818     \n",
      "Epoch 197/500\n",
      "614/614 [==============================] - 0s - loss: 0.4536 - acc: 0.7818     \n",
      "Epoch 198/500\n",
      "614/614 [==============================] - 0s - loss: 0.4537 - acc: 0.7818     \n",
      "Epoch 199/500\n",
      "614/614 [==============================] - 0s - loss: 0.4535 - acc: 0.7801     \n",
      "Epoch 200/500\n",
      "614/614 [==============================] - 0s - loss: 0.4535 - acc: 0.7834     \n",
      "Epoch 201/500\n",
      "614/614 [==============================] - 0s - loss: 0.4534 - acc: 0.7818     \n",
      "Epoch 202/500\n",
      "614/614 [==============================] - 0s - loss: 0.4532 - acc: 0.7818     \n",
      "Epoch 203/500\n",
      "614/614 [==============================] - 0s - loss: 0.4532 - acc: 0.7834     \n",
      "Epoch 204/500\n",
      "614/614 [==============================] - 0s - loss: 0.4531 - acc: 0.7818     \n",
      "Epoch 205/500\n",
      "614/614 [==============================] - 0s - loss: 0.4530 - acc: 0.7834     \n",
      "Epoch 206/500\n",
      "614/614 [==============================] - 0s - loss: 0.4529 - acc: 0.7834     \n",
      "Epoch 207/500\n",
      "614/614 [==============================] - 0s - loss: 0.4528 - acc: 0.7834     \n",
      "Epoch 208/500\n",
      "614/614 [==============================] - 0s - loss: 0.4528 - acc: 0.7850     \n",
      "Epoch 209/500\n",
      "614/614 [==============================] - 0s - loss: 0.4528 - acc: 0.7834     \n",
      "Epoch 210/500\n",
      "614/614 [==============================] - 0s - loss: 0.4528 - acc: 0.7834     \n",
      "Epoch 211/500\n",
      "614/614 [==============================] - 0s - loss: 0.4529 - acc: 0.7801     \n",
      "Epoch 212/500\n",
      "614/614 [==============================] - 0s - loss: 0.4525 - acc: 0.7801     \n",
      "Epoch 213/500\n",
      "614/614 [==============================] - 0s - loss: 0.4524 - acc: 0.7801     \n",
      "Epoch 214/500\n",
      "614/614 [==============================] - 0s - loss: 0.4523 - acc: 0.7818     \n",
      "Epoch 215/500\n",
      "614/614 [==============================] - 0s - loss: 0.4523 - acc: 0.7834     \n",
      "Epoch 216/500\n",
      "614/614 [==============================] - 0s - loss: 0.4522 - acc: 0.7834     \n",
      "Epoch 217/500\n",
      "614/614 [==============================] - 0s - loss: 0.4521 - acc: 0.7785     \n",
      "Epoch 218/500\n",
      "614/614 [==============================] - 0s - loss: 0.4519 - acc: 0.7785     \n",
      "Epoch 219/500\n",
      "614/614 [==============================] - 0s - loss: 0.4522 - acc: 0.7785     \n",
      "Epoch 220/500\n",
      "614/614 [==============================] - 0s - loss: 0.4518 - acc: 0.7801     \n",
      "Epoch 221/500\n",
      "614/614 [==============================] - 0s - loss: 0.4519 - acc: 0.7785     \n",
      "Epoch 222/500\n",
      "614/614 [==============================] - 0s - loss: 0.4517 - acc: 0.7818     \n",
      "Epoch 223/500\n",
      "614/614 [==============================] - 0s - loss: 0.4516 - acc: 0.7801     \n",
      "Epoch 224/500\n",
      "614/614 [==============================] - 0s - loss: 0.4516 - acc: 0.7834     \n",
      "Epoch 225/500\n",
      "614/614 [==============================] - 0s - loss: 0.4515 - acc: 0.7850     \n",
      "Epoch 226/500\n",
      "614/614 [==============================] - 0s - loss: 0.4514 - acc: 0.7834     \n",
      "Epoch 227/500\n",
      "614/614 [==============================] - 0s - loss: 0.4513 - acc: 0.7785     \n",
      "Epoch 228/500\n",
      "614/614 [==============================] - 0s - loss: 0.4512 - acc: 0.7818     \n",
      "Epoch 229/500\n",
      "614/614 [==============================] - 0s - loss: 0.4512 - acc: 0.7834     \n",
      "Epoch 230/500\n",
      "614/614 [==============================] - 0s - loss: 0.4510 - acc: 0.7834     \n",
      "Epoch 231/500\n",
      "614/614 [==============================] - 0s - loss: 0.4510 - acc: 0.7818     \n",
      "Epoch 232/500\n",
      "614/614 [==============================] - 0s - loss: 0.4509 - acc: 0.7850     \n",
      "Epoch 233/500\n",
      "614/614 [==============================] - 0s - loss: 0.4510 - acc: 0.7769     \n",
      "Epoch 234/500\n",
      "614/614 [==============================] - 0s - loss: 0.4508 - acc: 0.7785     \n",
      "Epoch 235/500\n",
      "614/614 [==============================] - 0s - loss: 0.4507 - acc: 0.7818     \n",
      "Epoch 236/500\n",
      "614/614 [==============================] - 0s - loss: 0.4508 - acc: 0.7866     \n",
      "Epoch 237/500\n",
      "614/614 [==============================] - 0s - loss: 0.4507 - acc: 0.7866     \n",
      "Epoch 238/500\n",
      "614/614 [==============================] - 0s - loss: 0.4508 - acc: 0.7866     \n",
      "Epoch 239/500\n",
      "614/614 [==============================] - 0s - loss: 0.4506 - acc: 0.7801     \n",
      "Epoch 240/500\n",
      "614/614 [==============================] - 0s - loss: 0.4506 - acc: 0.7834     \n",
      "Epoch 241/500\n",
      "614/614 [==============================] - 0s - loss: 0.4504 - acc: 0.7834     \n",
      "Epoch 242/500\n",
      "614/614 [==============================] - 0s - loss: 0.4504 - acc: 0.7818     \n",
      "Epoch 243/500\n",
      "614/614 [==============================] - 0s - loss: 0.4501 - acc: 0.7801     \n",
      "Epoch 244/500\n",
      "614/614 [==============================] - 0s - loss: 0.4501 - acc: 0.7801     \n",
      "Epoch 245/500\n",
      "614/614 [==============================] - 0s - loss: 0.4500 - acc: 0.7769     \n",
      "Epoch 246/500\n",
      "614/614 [==============================] - 0s - loss: 0.4500 - acc: 0.7769     \n",
      "Epoch 247/500\n",
      "614/614 [==============================] - 0s - loss: 0.4498 - acc: 0.7769     \n",
      "Epoch 248/500\n",
      "614/614 [==============================] - 0s - loss: 0.4498 - acc: 0.7785     \n",
      "Epoch 249/500\n",
      "614/614 [==============================] - 0s - loss: 0.4500 - acc: 0.7769     \n",
      "Epoch 250/500\n",
      "614/614 [==============================] - 0s - loss: 0.4497 - acc: 0.7818     \n",
      "Epoch 251/500\n",
      "614/614 [==============================] - 0s - loss: 0.4498 - acc: 0.7818     \n",
      "Epoch 252/500\n",
      "614/614 [==============================] - 0s - loss: 0.4496 - acc: 0.7801     \n",
      "Epoch 253/500\n",
      "614/614 [==============================] - ETA: 0s - loss: 0.6032 - acc: 0.700 - 0s - loss: 0.4495 - acc: 0.7801     \n",
      "Epoch 254/500\n",
      "614/614 [==============================] - 0s - loss: 0.4493 - acc: 0.7769     \n",
      "Epoch 255/500\n",
      "614/614 [==============================] - 0s - loss: 0.4494 - acc: 0.7785     \n",
      "Epoch 256/500\n",
      "614/614 [==============================] - 0s - loss: 0.4493 - acc: 0.7834     \n",
      "Epoch 257/500\n",
      "614/614 [==============================] - 0s - loss: 0.4490 - acc: 0.7785     \n",
      "Epoch 258/500\n",
      "614/614 [==============================] - 0s - loss: 0.4492 - acc: 0.7785     \n",
      "Epoch 259/500\n"
     ]
    },
    {
     "name": "stdout",
     "output_type": "stream",
     "text": [
      "614/614 [==============================] - 0s - loss: 0.4492 - acc: 0.7785     \n",
      "Epoch 260/500\n",
      "614/614 [==============================] - 0s - loss: 0.4489 - acc: 0.7785     \n",
      "Epoch 261/500\n",
      "614/614 [==============================] - 0s - loss: 0.4489 - acc: 0.7785     \n",
      "Epoch 262/500\n",
      "614/614 [==============================] - 0s - loss: 0.4489 - acc: 0.7785     \n",
      "Epoch 263/500\n",
      "614/614 [==============================] - 0s - loss: 0.4489 - acc: 0.7785     \n",
      "Epoch 264/500\n",
      "614/614 [==============================] - 0s - loss: 0.4487 - acc: 0.7801     \n",
      "Epoch 265/500\n",
      "614/614 [==============================] - 0s - loss: 0.4487 - acc: 0.7785     \n",
      "Epoch 266/500\n",
      "614/614 [==============================] - 0s - loss: 0.4486 - acc: 0.7818     \n",
      "Epoch 267/500\n",
      "614/614 [==============================] - 0s - loss: 0.4486 - acc: 0.7785     \n",
      "Epoch 268/500\n",
      "614/614 [==============================] - 0s - loss: 0.4485 - acc: 0.7801     \n",
      "Epoch 269/500\n",
      "614/614 [==============================] - 0s - loss: 0.4485 - acc: 0.7801     \n",
      "Epoch 270/500\n",
      "614/614 [==============================] - 0s - loss: 0.4483 - acc: 0.7801     \n",
      "Epoch 271/500\n",
      "614/614 [==============================] - 0s - loss: 0.4483 - acc: 0.7801     \n",
      "Epoch 272/500\n",
      "614/614 [==============================] - 0s - loss: 0.4481 - acc: 0.7818     \n",
      "Epoch 273/500\n",
      "614/614 [==============================] - 0s - loss: 0.4481 - acc: 0.7818     \n",
      "Epoch 274/500\n",
      "614/614 [==============================] - 0s - loss: 0.4482 - acc: 0.7785     \n",
      "Epoch 275/500\n",
      "614/614 [==============================] - 0s - loss: 0.4480 - acc: 0.7818     \n",
      "Epoch 276/500\n",
      "614/614 [==============================] - 0s - loss: 0.4479 - acc: 0.7736     \n",
      "Epoch 277/500\n",
      "614/614 [==============================] - ETA: 0s - loss: 0.3799 - acc: 0.880 - 0s - loss: 0.4477 - acc: 0.7785     \n",
      "Epoch 278/500\n",
      "614/614 [==============================] - 0s - loss: 0.4478 - acc: 0.7801     \n",
      "Epoch 279/500\n",
      "614/614 [==============================] - 0s - loss: 0.4478 - acc: 0.7736     \n",
      "Epoch 280/500\n",
      "614/614 [==============================] - 0s - loss: 0.4477 - acc: 0.7801     \n",
      "Epoch 281/500\n",
      "614/614 [==============================] - 0s - loss: 0.4476 - acc: 0.7801     \n",
      "Epoch 282/500\n",
      "614/614 [==============================] - 0s - loss: 0.4475 - acc: 0.7785     \n",
      "Epoch 283/500\n",
      "614/614 [==============================] - 0s - loss: 0.4475 - acc: 0.7769     \n",
      "Epoch 284/500\n",
      "614/614 [==============================] - 0s - loss: 0.4473 - acc: 0.7818     \n",
      "Epoch 285/500\n",
      "614/614 [==============================] - 0s - loss: 0.4472 - acc: 0.7818     \n",
      "Epoch 286/500\n",
      "614/614 [==============================] - 0s - loss: 0.4471 - acc: 0.7801     \n",
      "Epoch 287/500\n",
      "614/614 [==============================] - 0s - loss: 0.4472 - acc: 0.7801     \n",
      "Epoch 288/500\n",
      "614/614 [==============================] - 0s - loss: 0.4471 - acc: 0.7818     \n",
      "Epoch 289/500\n",
      "614/614 [==============================] - 0s - loss: 0.4470 - acc: 0.7801     \n",
      "Epoch 290/500\n",
      "614/614 [==============================] - ETA: 0s - loss: 0.3797 - acc: 0.840 - 0s - loss: 0.4471 - acc: 0.7834     \n",
      "Epoch 291/500\n",
      "614/614 [==============================] - 0s - loss: 0.4470 - acc: 0.7818     \n",
      "Epoch 292/500\n",
      "614/614 [==============================] - 0s - loss: 0.4469 - acc: 0.7785     \n",
      "Epoch 293/500\n",
      "614/614 [==============================] - 0s - loss: 0.4468 - acc: 0.7801     \n",
      "Epoch 294/500\n",
      "614/614 [==============================] - 0s - loss: 0.4467 - acc: 0.7785     \n",
      "Epoch 295/500\n",
      "614/614 [==============================] - 0s - loss: 0.4466 - acc: 0.7801     \n",
      "Epoch 296/500\n",
      "614/614 [==============================] - 0s - loss: 0.4466 - acc: 0.7801     \n",
      "Epoch 297/500\n",
      "614/614 [==============================] - 0s - loss: 0.4466 - acc: 0.7801     \n",
      "Epoch 298/500\n",
      "614/614 [==============================] - 0s - loss: 0.4465 - acc: 0.7785     \n",
      "Epoch 299/500\n",
      "614/614 [==============================] - 0s - loss: 0.4463 - acc: 0.7801     \n",
      "Epoch 300/500\n",
      "614/614 [==============================] - 0s - loss: 0.4462 - acc: 0.7785     \n",
      "Epoch 301/500\n",
      "614/614 [==============================] - 0s - loss: 0.4464 - acc: 0.7818     \n",
      "Epoch 302/500\n",
      "614/614 [==============================] - 0s - loss: 0.4461 - acc: 0.7801     \n",
      "Epoch 303/500\n",
      "614/614 [==============================] - 0s - loss: 0.4463 - acc: 0.7801     \n",
      "Epoch 304/500\n",
      "614/614 [==============================] - 0s - loss: 0.4459 - acc: 0.7801     \n",
      "Epoch 305/500\n",
      "614/614 [==============================] - 0s - loss: 0.4460 - acc: 0.7818     \n",
      "Epoch 306/500\n",
      "614/614 [==============================] - 0s - loss: 0.4460 - acc: 0.7818     \n",
      "Epoch 307/500\n",
      "614/614 [==============================] - 0s - loss: 0.4459 - acc: 0.7785     \n",
      "Epoch 308/500\n",
      "614/614 [==============================] - 0s - loss: 0.4457 - acc: 0.7834     \n",
      "Epoch 309/500\n",
      "614/614 [==============================] - 0s - loss: 0.4457 - acc: 0.7818     \n",
      "Epoch 310/500\n",
      "614/614 [==============================] - 0s - loss: 0.4457 - acc: 0.7769     \n",
      "Epoch 311/500\n",
      "614/614 [==============================] - 0s - loss: 0.4455 - acc: 0.7785     \n",
      "Epoch 312/500\n",
      "614/614 [==============================] - 0s - loss: 0.4454 - acc: 0.7818     \n",
      "Epoch 313/500\n",
      "614/614 [==============================] - 0s - loss: 0.4455 - acc: 0.7769     \n",
      "Epoch 314/500\n",
      "614/614 [==============================] - 0s - loss: 0.4456 - acc: 0.7801     \n",
      "Epoch 315/500\n",
      "614/614 [==============================] - 0s - loss: 0.4454 - acc: 0.7818     \n",
      "Epoch 316/500\n",
      "614/614 [==============================] - 0s - loss: 0.4453 - acc: 0.7785     \n",
      "Epoch 317/500\n",
      "614/614 [==============================] - 0s - loss: 0.4452 - acc: 0.7769     \n",
      "Epoch 318/500\n",
      "614/614 [==============================] - 0s - loss: 0.4450 - acc: 0.7752     \n",
      "Epoch 319/500\n",
      "614/614 [==============================] - 0s - loss: 0.4451 - acc: 0.7801     \n",
      "Epoch 320/500\n",
      "614/614 [==============================] - 0s - loss: 0.4449 - acc: 0.7769     \n",
      "Epoch 321/500\n",
      "614/614 [==============================] - 0s - loss: 0.4449 - acc: 0.7801     \n",
      "Epoch 322/500\n",
      "614/614 [==============================] - 0s - loss: 0.4448 - acc: 0.7785     \n",
      "Epoch 323/500\n",
      "614/614 [==============================] - 0s - loss: 0.4448 - acc: 0.7785     \n",
      "Epoch 324/500\n",
      "614/614 [==============================] - 0s - loss: 0.4446 - acc: 0.7785     \n",
      "Epoch 325/500\n",
      "614/614 [==============================] - 0s - loss: 0.4447 - acc: 0.7752     \n",
      "Epoch 326/500\n",
      "614/614 [==============================] - 0s - loss: 0.4445 - acc: 0.7801     \n",
      "Epoch 327/500\n",
      "614/614 [==============================] - 0s - loss: 0.4447 - acc: 0.7769     \n",
      "Epoch 328/500\n",
      "614/614 [==============================] - 0s - loss: 0.4445 - acc: 0.7801     \n",
      "Epoch 329/500\n",
      "614/614 [==============================] - 0s - loss: 0.4444 - acc: 0.7752     \n",
      "Epoch 330/500\n",
      "614/614 [==============================] - 0s - loss: 0.4443 - acc: 0.7785     \n",
      "Epoch 331/500\n",
      "614/614 [==============================] - 0s - loss: 0.4442 - acc: 0.7818     \n",
      "Epoch 332/500\n",
      "614/614 [==============================] - 0s - loss: 0.4442 - acc: 0.7801     \n",
      "Epoch 333/500\n",
      "614/614 [==============================] - 0s - loss: 0.4442 - acc: 0.7736     \n",
      "Epoch 334/500\n",
      "614/614 [==============================] - 0s - loss: 0.4443 - acc: 0.7736     \n",
      "Epoch 335/500\n",
      "614/614 [==============================] - 0s - loss: 0.4440 - acc: 0.7801     \n",
      "Epoch 336/500\n",
      "614/614 [==============================] - 0s - loss: 0.4441 - acc: 0.7785     \n",
      "Epoch 337/500\n",
      "614/614 [==============================] - 0s - loss: 0.4442 - acc: 0.7687     \n",
      "Epoch 338/500\n",
      "614/614 [==============================] - 0s - loss: 0.4438 - acc: 0.7736     \n",
      "Epoch 339/500\n",
      "614/614 [==============================] - 0s - loss: 0.4439 - acc: 0.7769     \n",
      "Epoch 340/500\n",
      "614/614 [==============================] - 0s - loss: 0.4435 - acc: 0.7769     \n",
      "Epoch 341/500\n",
      "614/614 [==============================] - 0s - loss: 0.4436 - acc: 0.7785     \n",
      "Epoch 342/500\n",
      "614/614 [==============================] - 0s - loss: 0.4434 - acc: 0.7785     \n",
      "Epoch 343/500\n",
      "614/614 [==============================] - ETA: 0s - loss: 0.5069 - acc: 0.700 - 0s - loss: 0.4434 - acc: 0.7785     \n",
      "Epoch 344/500\n",
      "614/614 [==============================] - 0s - loss: 0.4434 - acc: 0.7752     \n",
      "Epoch 345/500\n"
     ]
    },
    {
     "name": "stdout",
     "output_type": "stream",
     "text": [
      "614/614 [==============================] - 0s - loss: 0.4435 - acc: 0.7785     \n",
      "Epoch 346/500\n",
      "614/614 [==============================] - 0s - loss: 0.4435 - acc: 0.7769     \n",
      "Epoch 347/500\n",
      "614/614 [==============================] - 0s - loss: 0.4433 - acc: 0.7752     \n",
      "Epoch 348/500\n",
      "614/614 [==============================] - 0s - loss: 0.4434 - acc: 0.7785     \n",
      "Epoch 349/500\n",
      "614/614 [==============================] - 0s - loss: 0.4430 - acc: 0.7785     \n",
      "Epoch 350/500\n",
      "614/614 [==============================] - 0s - loss: 0.4430 - acc: 0.7769     \n",
      "Epoch 351/500\n",
      "614/614 [==============================] - 0s - loss: 0.4431 - acc: 0.7769     \n",
      "Epoch 352/500\n",
      "614/614 [==============================] - 0s - loss: 0.4429 - acc: 0.7769     \n",
      "Epoch 353/500\n",
      "614/614 [==============================] - 0s - loss: 0.4428 - acc: 0.7752     \n",
      "Epoch 354/500\n",
      "614/614 [==============================] - 0s - loss: 0.4428 - acc: 0.7752     \n",
      "Epoch 355/500\n",
      "614/614 [==============================] - 0s - loss: 0.4425 - acc: 0.7752     \n",
      "Epoch 356/500\n",
      "614/614 [==============================] - 0s - loss: 0.4427 - acc: 0.7752     \n",
      "Epoch 357/500\n",
      "614/614 [==============================] - 0s - loss: 0.4426 - acc: 0.7769     \n",
      "Epoch 358/500\n",
      "614/614 [==============================] - 0s - loss: 0.4425 - acc: 0.7769     \n",
      "Epoch 359/500\n",
      "614/614 [==============================] - 0s - loss: 0.4425 - acc: 0.7752     \n",
      "Epoch 360/500\n",
      "614/614 [==============================] - 0s - loss: 0.4424 - acc: 0.7769     \n",
      "Epoch 361/500\n",
      "614/614 [==============================] - 0s - loss: 0.4423 - acc: 0.7769     \n",
      "Epoch 362/500\n",
      "614/614 [==============================] - 0s - loss: 0.4423 - acc: 0.7769     \n",
      "Epoch 363/500\n",
      "614/614 [==============================] - 0s - loss: 0.4423 - acc: 0.7785     \n",
      "Epoch 364/500\n",
      "614/614 [==============================] - ETA: 0s - loss: 0.4907 - acc: 0.740 - 0s - loss: 0.4421 - acc: 0.7752     \n",
      "Epoch 365/500\n",
      "614/614 [==============================] - 0s - loss: 0.4421 - acc: 0.7785     \n",
      "Epoch 366/500\n",
      "614/614 [==============================] - 0s - loss: 0.4421 - acc: 0.7785     \n",
      "Epoch 367/500\n",
      "614/614 [==============================] - 0s - loss: 0.4419 - acc: 0.7752     \n",
      "Epoch 368/500\n",
      "614/614 [==============================] - ETA: 0s - loss: 0.4130 - acc: 0.760 - 0s - loss: 0.4420 - acc: 0.7785     \n",
      "Epoch 369/500\n",
      "614/614 [==============================] - 0s - loss: 0.4417 - acc: 0.7769     \n",
      "Epoch 370/500\n",
      "614/614 [==============================] - 0s - loss: 0.4419 - acc: 0.7720     \n",
      "Epoch 371/500\n",
      "614/614 [==============================] - 0s - loss: 0.4418 - acc: 0.7785     \n",
      "Epoch 372/500\n",
      "614/614 [==============================] - 0s - loss: 0.4417 - acc: 0.7801     \n",
      "Epoch 373/500\n",
      "614/614 [==============================] - 0s - loss: 0.4417 - acc: 0.7736     \n",
      "Epoch 374/500\n",
      "614/614 [==============================] - 0s - loss: 0.4414 - acc: 0.7769     \n",
      "Epoch 375/500\n",
      "614/614 [==============================] - 0s - loss: 0.4414 - acc: 0.7769     \n",
      "Epoch 376/500\n",
      "614/614 [==============================] - 0s - loss: 0.4415 - acc: 0.7752     \n",
      "Epoch 377/500\n",
      "614/614 [==============================] - 0s - loss: 0.4414 - acc: 0.7769     \n",
      "Epoch 378/500\n",
      "614/614 [==============================] - 0s - loss: 0.4413 - acc: 0.7736     \n",
      "Epoch 379/500\n",
      "614/614 [==============================] - 0s - loss: 0.4412 - acc: 0.7769     \n",
      "Epoch 380/500\n",
      "614/614 [==============================] - 0s - loss: 0.4410 - acc: 0.7752     \n",
      "Epoch 381/500\n",
      "614/614 [==============================] - 0s - loss: 0.4411 - acc: 0.7785     \n",
      "Epoch 382/500\n",
      "614/614 [==============================] - 0s - loss: 0.4411 - acc: 0.7752     \n",
      "Epoch 383/500\n",
      "614/614 [==============================] - 0s - loss: 0.4408 - acc: 0.7769     \n",
      "Epoch 384/500\n",
      "614/614 [==============================] - 0s - loss: 0.4408 - acc: 0.7769     \n",
      "Epoch 385/500\n",
      "614/614 [==============================] - 0s - loss: 0.4408 - acc: 0.7785     \n",
      "Epoch 386/500\n",
      "614/614 [==============================] - 0s - loss: 0.4409 - acc: 0.7752     \n",
      "Epoch 387/500\n",
      "614/614 [==============================] - 0s - loss: 0.4408 - acc: 0.7769     \n",
      "Epoch 388/500\n",
      "614/614 [==============================] - ETA: 0s - loss: 0.4800 - acc: 0.760 - 0s - loss: 0.4407 - acc: 0.7752     \n",
      "Epoch 389/500\n",
      "614/614 [==============================] - 0s - loss: 0.4406 - acc: 0.7785     \n",
      "Epoch 390/500\n",
      "614/614 [==============================] - 0s - loss: 0.4406 - acc: 0.7736     \n",
      "Epoch 391/500\n",
      "614/614 [==============================] - 0s - loss: 0.4405 - acc: 0.7769     \n",
      "Epoch 392/500\n",
      "614/614 [==============================] - 0s - loss: 0.4405 - acc: 0.7769     \n",
      "Epoch 393/500\n",
      "614/614 [==============================] - 0s - loss: 0.4404 - acc: 0.7769     \n",
      "Epoch 394/500\n",
      "614/614 [==============================] - 0s - loss: 0.4405 - acc: 0.7752     \n",
      "Epoch 395/500\n",
      "614/614 [==============================] - 0s - loss: 0.4405 - acc: 0.7769     \n",
      "Epoch 396/500\n",
      "614/614 [==============================] - 0s - loss: 0.4403 - acc: 0.7785     \n",
      "Epoch 397/500\n",
      "614/614 [==============================] - 0s - loss: 0.4402 - acc: 0.7801     \n",
      "Epoch 398/500\n",
      "614/614 [==============================] - 0s - loss: 0.4401 - acc: 0.7736     \n",
      "Epoch 399/500\n",
      "614/614 [==============================] - 0s - loss: 0.4402 - acc: 0.7752     \n",
      "Epoch 400/500\n",
      "614/614 [==============================] - 0s - loss: 0.4402 - acc: 0.7785     \n",
      "Epoch 401/500\n",
      "614/614 [==============================] - 0s - loss: 0.4400 - acc: 0.7801     \n",
      "Epoch 402/500\n",
      "614/614 [==============================] - 0s - loss: 0.4399 - acc: 0.7769     \n",
      "Epoch 403/500\n",
      "614/614 [==============================] - 0s - loss: 0.4400 - acc: 0.7785     \n",
      "Epoch 404/500\n",
      "614/614 [==============================] - 0s - loss: 0.4398 - acc: 0.7785     \n",
      "Epoch 405/500\n",
      "614/614 [==============================] - 0s - loss: 0.4397 - acc: 0.7785     \n",
      "Epoch 406/500\n",
      "614/614 [==============================] - 0s - loss: 0.4395 - acc: 0.7785     \n",
      "Epoch 407/500\n",
      "614/614 [==============================] - 0s - loss: 0.4396 - acc: 0.7785     \n",
      "Epoch 408/500\n",
      "614/614 [==============================] - 0s - loss: 0.4395 - acc: 0.7785     \n",
      "Epoch 409/500\n",
      "614/614 [==============================] - 0s - loss: 0.4395 - acc: 0.7785     \n",
      "Epoch 410/500\n",
      "614/614 [==============================] - 0s - loss: 0.4395 - acc: 0.7769     \n",
      "Epoch 411/500\n",
      "614/614 [==============================] - 0s - loss: 0.4395 - acc: 0.7752     \n",
      "Epoch 412/500\n",
      "614/614 [==============================] - 0s - loss: 0.4393 - acc: 0.7769     \n",
      "Epoch 413/500\n",
      "614/614 [==============================] - 0s - loss: 0.4394 - acc: 0.7785     \n",
      "Epoch 414/500\n",
      "614/614 [==============================] - 0s - loss: 0.4394 - acc: 0.7801     \n",
      "Epoch 415/500\n",
      "614/614 [==============================] - 0s - loss: 0.4394 - acc: 0.7769     \n",
      "Epoch 416/500\n",
      "614/614 [==============================] - 0s - loss: 0.4391 - acc: 0.7785     \n",
      "Epoch 417/500\n",
      "614/614 [==============================] - 0s - loss: 0.4392 - acc: 0.7785     \n",
      "Epoch 418/500\n",
      "614/614 [==============================] - 0s - loss: 0.4389 - acc: 0.7785     \n",
      "Epoch 419/500\n",
      "614/614 [==============================] - 0s - loss: 0.4388 - acc: 0.7769     \n",
      "Epoch 420/500\n",
      "614/614 [==============================] - 0s - loss: 0.4389 - acc: 0.7785     \n",
      "Epoch 421/500\n",
      "614/614 [==============================] - 0s - loss: 0.4388 - acc: 0.7785     \n",
      "Epoch 422/500\n",
      "614/614 [==============================] - 0s - loss: 0.4389 - acc: 0.7769     \n",
      "Epoch 423/500\n",
      "614/614 [==============================] - 0s - loss: 0.4388 - acc: 0.7785     \n",
      "Epoch 424/500\n",
      "614/614 [==============================] - 0s - loss: 0.4388 - acc: 0.7818     \n",
      "Epoch 425/500\n",
      "614/614 [==============================] - 0s - loss: 0.4385 - acc: 0.7785     \n",
      "Epoch 426/500\n",
      "614/614 [==============================] - 0s - loss: 0.4386 - acc: 0.7752     \n",
      "Epoch 427/500\n",
      "614/614 [==============================] - 0s - loss: 0.4385 - acc: 0.7769     \n",
      "Epoch 428/500\n",
      "614/614 [==============================] - 0s - loss: 0.4384 - acc: 0.7769     \n",
      "Epoch 429/500\n",
      "614/614 [==============================] - 0s - loss: 0.4385 - acc: 0.7785     \n",
      "Epoch 430/500\n",
      "614/614 [==============================] - 0s - loss: 0.4384 - acc: 0.7769     \n",
      "Epoch 431/500\n"
     ]
    },
    {
     "name": "stdout",
     "output_type": "stream",
     "text": [
      "614/614 [==============================] - 0s - loss: 0.4382 - acc: 0.7785     \n",
      "Epoch 432/500\n",
      "614/614 [==============================] - 0s - loss: 0.4383 - acc: 0.7801     \n",
      "Epoch 433/500\n",
      "614/614 [==============================] - 0s - loss: 0.4381 - acc: 0.7769     \n",
      "Epoch 434/500\n",
      "614/614 [==============================] - 0s - loss: 0.4380 - acc: 0.7785     \n",
      "Epoch 435/500\n",
      "614/614 [==============================] - 0s - loss: 0.4381 - acc: 0.7785     \n",
      "Epoch 436/500\n",
      "614/614 [==============================] - 0s - loss: 0.4380 - acc: 0.7785     \n",
      "Epoch 437/500\n",
      "614/614 [==============================] - 0s - loss: 0.4380 - acc: 0.7801     \n",
      "Epoch 438/500\n",
      "614/614 [==============================] - 0s - loss: 0.4381 - acc: 0.7785     \n",
      "Epoch 439/500\n",
      "614/614 [==============================] - 0s - loss: 0.4378 - acc: 0.7801     \n",
      "Epoch 440/500\n",
      "614/614 [==============================] - 0s - loss: 0.4377 - acc: 0.7769     \n",
      "Epoch 441/500\n",
      "614/614 [==============================] - 0s - loss: 0.4378 - acc: 0.7785     \n",
      "Epoch 442/500\n",
      "614/614 [==============================] - 0s - loss: 0.4378 - acc: 0.7785     \n",
      "Epoch 443/500\n",
      "614/614 [==============================] - 0s - loss: 0.4376 - acc: 0.7801     \n",
      "Epoch 444/500\n",
      "614/614 [==============================] - 0s - loss: 0.4375 - acc: 0.7785     \n",
      "Epoch 445/500\n",
      "614/614 [==============================] - 0s - loss: 0.4373 - acc: 0.7785     \n",
      "Epoch 446/500\n",
      "614/614 [==============================] - 0s - loss: 0.4375 - acc: 0.7785     \n",
      "Epoch 447/500\n",
      "614/614 [==============================] - 0s - loss: 0.4373 - acc: 0.7785     \n",
      "Epoch 448/500\n",
      "614/614 [==============================] - 0s - loss: 0.4373 - acc: 0.7769     \n",
      "Epoch 449/500\n",
      "614/614 [==============================] - 0s - loss: 0.4372 - acc: 0.7785     \n",
      "Epoch 450/500\n",
      "614/614 [==============================] - 0s - loss: 0.4372 - acc: 0.7785     \n",
      "Epoch 451/500\n",
      "614/614 [==============================] - 0s - loss: 0.4373 - acc: 0.7769     \n",
      "Epoch 452/500\n",
      "614/614 [==============================] - 0s - loss: 0.4370 - acc: 0.7769     \n",
      "Epoch 453/500\n",
      "614/614 [==============================] - 0s - loss: 0.4369 - acc: 0.7801     \n",
      "Epoch 454/500\n",
      "614/614 [==============================] - 0s - loss: 0.4368 - acc: 0.7769     \n",
      "Epoch 455/500\n",
      "614/614 [==============================] - 0s - loss: 0.4369 - acc: 0.7769     \n",
      "Epoch 456/500\n",
      "614/614 [==============================] - 0s - loss: 0.4369 - acc: 0.7769     \n",
      "Epoch 457/500\n",
      "614/614 [==============================] - ETA: 0s - loss: 0.4023 - acc: 0.820 - ETA: 0s - loss: 0.4246 - acc: 0.783 - 0s - loss: 0.4365 - acc: 0.7769     \n",
      "Epoch 458/500\n",
      "614/614 [==============================] - 0s - loss: 0.4366 - acc: 0.7785     \n",
      "Epoch 459/500\n",
      "614/614 [==============================] - 0s - loss: 0.4365 - acc: 0.7736     \n",
      "Epoch 460/500\n",
      "614/614 [==============================] - 0s - loss: 0.4366 - acc: 0.7801     \n",
      "Epoch 461/500\n",
      "614/614 [==============================] - 0s - loss: 0.4365 - acc: 0.7785     \n",
      "Epoch 462/500\n",
      "614/614 [==============================] - 0s - loss: 0.4365 - acc: 0.7769     \n",
      "Epoch 463/500\n",
      "614/614 [==============================] - 0s - loss: 0.4365 - acc: 0.7785     \n",
      "Epoch 464/500\n",
      "614/614 [==============================] - 0s - loss: 0.4363 - acc: 0.7801     \n",
      "Epoch 465/500\n",
      "614/614 [==============================] - 0s - loss: 0.4364 - acc: 0.7785     \n",
      "Epoch 466/500\n",
      "614/614 [==============================] - 0s - loss: 0.4363 - acc: 0.7801     \n",
      "Epoch 467/500\n",
      "614/614 [==============================] - 0s - loss: 0.4366 - acc: 0.7785     \n",
      "Epoch 468/500\n",
      "614/614 [==============================] - 0s - loss: 0.4360 - acc: 0.7769     \n",
      "Epoch 469/500\n",
      "614/614 [==============================] - 0s - loss: 0.4363 - acc: 0.7769     \n",
      "Epoch 470/500\n",
      "614/614 [==============================] - 0s - loss: 0.4360 - acc: 0.7769     \n",
      "Epoch 471/500\n",
      "614/614 [==============================] - 0s - loss: 0.4361 - acc: 0.7769     \n",
      "Epoch 472/500\n",
      "614/614 [==============================] - 0s - loss: 0.4357 - acc: 0.7769     \n",
      "Epoch 473/500\n",
      "614/614 [==============================] - 0s - loss: 0.4359 - acc: 0.7785     \n",
      "Epoch 474/500\n",
      "614/614 [==============================] - 0s - loss: 0.4358 - acc: 0.7752     \n",
      "Epoch 475/500\n",
      "614/614 [==============================] - 0s - loss: 0.4355 - acc: 0.7785     \n",
      "Epoch 476/500\n",
      "614/614 [==============================] - 0s - loss: 0.4356 - acc: 0.7785     \n",
      "Epoch 477/500\n",
      "614/614 [==============================] - 0s - loss: 0.4353 - acc: 0.7785     \n",
      "Epoch 478/500\n",
      "614/614 [==============================] - 0s - loss: 0.4355 - acc: 0.7801     \n",
      "Epoch 479/500\n",
      "614/614 [==============================] - 0s - loss: 0.4353 - acc: 0.7785     \n",
      "Epoch 480/500\n",
      "614/614 [==============================] - 0s - loss: 0.4354 - acc: 0.7801     \n",
      "Epoch 481/500\n",
      "614/614 [==============================] - 0s - loss: 0.4351 - acc: 0.7801     \n",
      "Epoch 482/500\n",
      "614/614 [==============================] - 0s - loss: 0.4354 - acc: 0.7785     \n",
      "Epoch 483/500\n",
      "614/614 [==============================] - 0s - loss: 0.4351 - acc: 0.7785     \n",
      "Epoch 484/500\n",
      "614/614 [==============================] - 0s - loss: 0.4351 - acc: 0.7818     \n",
      "Epoch 485/500\n",
      "614/614 [==============================] - 0s - loss: 0.4350 - acc: 0.7801     \n",
      "Epoch 486/500\n",
      "614/614 [==============================] - 0s - loss: 0.4350 - acc: 0.7785     \n",
      "Epoch 487/500\n",
      "614/614 [==============================] - 0s - loss: 0.4348 - acc: 0.7785     \n",
      "Epoch 488/500\n",
      "614/614 [==============================] - 0s - loss: 0.4349 - acc: 0.7769     \n",
      "Epoch 489/500\n",
      "614/614 [==============================] - ETA: 0s - loss: 0.4123 - acc: 0.800 - 0s - loss: 0.4347 - acc: 0.7801     \n",
      "Epoch 490/500\n",
      "614/614 [==============================] - 0s - loss: 0.4349 - acc: 0.7801     \n",
      "Epoch 491/500\n",
      "614/614 [==============================] - 0s - loss: 0.4346 - acc: 0.7785     \n",
      "Epoch 492/500\n",
      "614/614 [==============================] - 0s - loss: 0.4347 - acc: 0.7818     \n",
      "Epoch 493/500\n",
      "614/614 [==============================] - 0s - loss: 0.4346 - acc: 0.7801     \n",
      "Epoch 494/500\n",
      "614/614 [==============================] - 0s - loss: 0.4346 - acc: 0.7801     \n",
      "Epoch 495/500\n",
      "614/614 [==============================] - 0s - loss: 0.4343 - acc: 0.7801     \n",
      "Epoch 496/500\n",
      "614/614 [==============================] - 0s - loss: 0.4343 - acc: 0.7785     \n",
      "Epoch 497/500\n",
      "614/614 [==============================] - 0s - loss: 0.4343 - acc: 0.7752     \n",
      "Epoch 498/500\n",
      "614/614 [==============================] - 0s - loss: 0.4342 - acc: 0.7801     \n",
      "Epoch 499/500\n",
      "614/614 [==============================] - 0s - loss: 0.4340 - acc: 0.7801     \n",
      "Epoch 500/500\n",
      "614/614 [==============================] - 0s - loss: 0.4340 - acc: 0.7818     \n"
     ]
    },
    {
     "data": {
      "text/plain": [
       "<keras.callbacks.History at 0x7f0ab4dd7850>"
      ]
     },
     "execution_count": 17,
     "metadata": {},
     "output_type": "execute_result"
    }
   ],
   "source": [
    "# Fit the model\n",
    "model.fit(X_train, y_train, \n",
    "          nb_epoch=500, \n",
    "          batch_size=50, \n",
    "          verbose=1)"
   ]
  },
  {
   "cell_type": "markdown",
   "metadata": {},
   "source": [
    "## Оценка качества"
   ]
  },
  {
   "cell_type": "code",
   "execution_count": 18,
   "metadata": {
    "scrolled": true
   },
   "outputs": [
    {
     "name": "stdout",
     "output_type": "stream",
     "text": [
      " 32/154 [=====>........................] - ETA: 0sacc: 0.78\n"
     ]
    }
   ],
   "source": [
    "scores = model.evaluate(X_test, y_test)\n",
    "print(\"%s: %.2f\" % (model.metrics_names[1], scores[1]))"
   ]
  },
  {
   "cell_type": "markdown",
   "metadata": {},
   "source": [
    "# Конволюционные нейронные сети"
   ]
  },
  {
   "cell_type": "markdown",
   "metadata": {},
   "source": [
    "<img src='http://i.stack.imgur.com/oUwMk.png'>"
   ]
  },
  {
   "cell_type": "code",
   "execution_count": 19,
   "metadata": {},
   "outputs": [],
   "source": [
    "from keras.datasets import mnist\n",
    "from keras.utils.np_utils import to_categorical\n",
    "\n",
    "from keras.layers import Activation\n",
    "from keras.layers.convolutional import Convolution2D, MaxPooling2D\n",
    "from keras.layers import Dropout, Flatten, Dense\n",
    "from keras.models import Sequential\n",
    "\n",
    "from keras import backend as K"
   ]
  },
  {
   "cell_type": "code",
   "execution_count": 20,
   "metadata": {
    "collapsed": true
   },
   "outputs": [],
   "source": [
    "from keras.optimizers import SGD"
   ]
  },
  {
   "cell_type": "code",
   "execution_count": 21,
   "metadata": {},
   "outputs": [
    {
     "name": "stdout",
     "output_type": "stream",
     "text": [
      "Downloading data from https://s3.amazonaws.com/img-datasets/mnist.npz\n",
      "11337728/11490434 [============================>.] - ETA: 0s"
     ]
    },
    {
     "data": {
      "text/plain": [
       "(60000, 10000, 28, 28)"
      ]
     },
     "execution_count": 21,
     "metadata": {},
     "output_type": "execute_result"
    }
   ],
   "source": [
    "(X_train, y_train), (X_test, y_test) = mnist.load_data()\n",
    "\n",
    "n_train, img_rows, img_cols = X_train.shape\n",
    "n_test, _, _ = X_test.shape\n",
    "\n",
    "n_train, n_test, img_rows, img_cols"
   ]
  },
  {
   "cell_type": "markdown",
   "metadata": {},
   "source": [
    "Посмотрим на данные"
   ]
  },
  {
   "cell_type": "markdown",
   "metadata": {},
   "source": [
    "## Готовим данные\n",
    "Есть некоторые заморочки связанные с тем, в каком виде должны быть данные"
   ]
  },
  {
   "cell_type": "code",
   "execution_count": 22,
   "metadata": {},
   "outputs": [
    {
     "data": {
      "text/plain": [
       "(60000, 28, 28)"
      ]
     },
     "execution_count": 22,
     "metadata": {},
     "output_type": "execute_result"
    }
   ],
   "source": [
    "X_train.shape"
   ]
  },
  {
   "cell_type": "code",
   "execution_count": 23,
   "metadata": {
    "collapsed": true
   },
   "outputs": [],
   "source": [
    "img_rows, img_cols = 28, 28\n",
    "\n",
    "if K.image_dim_ordering() != 'tf':\n",
    "    shape_ord = (1, img_rows, img_cols)\n",
    "else:  # channel_last\n",
    "    shape_ord = (img_rows, img_cols, 1)"
   ]
  },
  {
   "cell_type": "code",
   "execution_count": 24,
   "metadata": {
    "collapsed": true
   },
   "outputs": [],
   "source": [
    "X_train = X_train.reshape((X_train.shape[0],) + shape_ord)\n",
    "X_test = X_test.reshape((X_test.shape[0],) + shape_ord)\n",
    "\n",
    "X_train = X_train.astype('float32')\n",
    "X_test = X_test.astype('float32')\n",
    "\n",
    "X_train /= 255\n",
    "X_test /= 255\n",
    "\n",
    "\n",
    "# numbers 0-9, so ten classes\n",
    "n_classes = 10\n",
    "\n",
    "y_train = to_categorical(y_train, n_classes)\n",
    "y_test = to_categorical(y_test, n_classes)"
   ]
  },
  {
   "cell_type": "code",
   "execution_count": 25,
   "metadata": {},
   "outputs": [
    {
     "data": {
      "text/plain": [
       "(60000, 28, 28, 1)"
      ]
     },
     "execution_count": 25,
     "metadata": {},
     "output_type": "execute_result"
    }
   ],
   "source": [
    "X_train.shape"
   ]
  },
  {
   "cell_type": "markdown",
   "metadata": {},
   "source": [
    "## Составляем модель"
   ]
  },
  {
   "cell_type": "code",
   "execution_count": null,
   "metadata": {},
   "outputs": [
    {
     "name": "stderr",
     "output_type": "stream",
     "text": [
      "/root/miniconda2/lib/python2.7/site-packages/ipykernel_launcher.py:18: UserWarning: Update your `Conv2D` call to the Keras 2 API: `Conv2D(32, (3, 3), padding=\"valid\", activation=\"relu\", input_shape=(28, 28, 1...)`\n",
      "/root/miniconda2/lib/python2.7/site-packages/ipykernel_launcher.py:22: UserWarning: Update your `Conv2D` call to the Keras 2 API: `Conv2D(32, (3, 3), activation=\"relu\")`\n"
     ]
    }
   ],
   "source": [
    "# Количество конволюционных фильтров\n",
    "n_filters = 32\n",
    "\n",
    "# Размер фильра\n",
    "n_conv = 3\n",
    "\n",
    "# Размер пуллинга\n",
    "n_pool = 2\n",
    "\n",
    "# Размерность входной картинки\n",
    "input_shape = (28, 28, 1)\n",
    "\n",
    "model = Sequential()\n",
    "model.add(Convolution2D( \n",
    "        n_filters, n_conv, n_conv,\n",
    "        border_mode='valid',\n",
    "        input_shape=input_shape,\n",
    "        activation='relu'\n",
    "))\n",
    "\n",
    "# Конволюция\n",
    "model.add(Convolution2D(n_filters, n_conv, n_conv, activation='relu'))\n",
    "\n",
    "# Пуллинг\n",
    "model.add(MaxPooling2D(pool_size=(n_pool, n_pool)))\n",
    "model.add(Dropout(0.25))\n",
    "\n",
    "# Выравниваем\n",
    "model.add(Flatten())\n",
    "\n",
    "# Делаем полносвязный слой\n",
    "model.add(Dense(128, activation='relu'))\n",
    "model.add(Dropout(0.5))\n",
    "\n",
    "# Softmax в конце\n",
    "model.add(Dense(n_classes, activation='softmax'))"
   ]
  },
  {
   "cell_type": "code",
   "execution_count": null,
   "metadata": {
    "collapsed": true
   },
   "outputs": [],
   "source": [
    "model.compile(\n",
    "    loss='categorical_crossentropy',\n",
    "    optimizer='adam',\n",
    "    metrics=['accuracy']\n",
    ")"
   ]
  },
  {
   "cell_type": "code",
   "execution_count": null,
   "metadata": {
    "collapsed": true
   },
   "outputs": [],
   "source": [
    "model.fit(X_train,\n",
    "          y_train,\n",
    "          batch_size=32,\n",
    "          nb_epoch=10,\n",
    "          validation_data=(X_test, y_test),\n",
    "          verbose=1)"
   ]
  },
  {
   "cell_type": "markdown",
   "metadata": {},
   "source": [
    "## Внитри модели"
   ]
  },
  {
   "cell_type": "code",
   "execution_count": null,
   "metadata": {
    "collapsed": true
   },
   "outputs": [],
   "source": [
    "for i, layer in enumerate(model.layers):\n",
    "    print (\"Layer\", i, \"\\t\", layer.name, \"\\t\\t\", layer.input_shape, \"\\t\", layer.output_shape)"
   ]
  },
  {
   "cell_type": "code",
   "execution_count": null,
   "metadata": {
    "collapsed": true
   },
   "outputs": [],
   "source": [
    "for i, layer in enumerate(model.layers):\n",
    "    if len(layer.get_weights()) > 0:\n",
    "        W, b = layer.get_weights()\n",
    "        print(\"Layer\", i, \"\\t\", layer.name, \"\\t\\t\", W.shape, \"\\t\", b.shape)"
   ]
  },
  {
   "cell_type": "markdown",
   "metadata": {},
   "source": [
    "# Цветные картинки"
   ]
  },
  {
   "cell_type": "code",
   "execution_count": null,
   "metadata": {
    "collapsed": true
   },
   "outputs": [],
   "source": [
    "from keras.datasets import cifar10\n",
    "from keras.utils import np_utils\n",
    "\n",
    "(X_train, y_train), (X_test, y_test) = cifar10.load_data()\n",
    "\n",
    "nb_classes = 10\n",
    "Y_train = np_utils.to_categorical(y_train, nb_classes)\n",
    "Y_test = np_utils.to_categorical(y_test, nb_classes)\n",
    "X_train = X_train.astype(\"float32\")\n",
    "X_test = X_test.astype(\"float32\")\n",
    "X_train /= 255\n",
    "X_test /= 255"
   ]
  },
  {
   "cell_type": "markdown",
   "metadata": {},
   "source": [
    "По сути это уменьшенные изображения, которые нам повсюду встречаются. Сеть должна уметь выполнять классификацию не зависимо от того, повернут ли объект, уменьшен он или увеличен и тп.\n",
    "\n",
    "То есть в обучающей выборке должны содержаться такие элементарные трансформации"
   ]
  },
  {
   "cell_type": "code",
   "execution_count": null,
   "metadata": {
    "collapsed": true
   },
   "outputs": [],
   "source": [
    "from keras.preprocessing.image import ImageDataGenerator\n",
    "\n",
    "generated_images = ImageDataGenerator(\n",
    "    featurewise_center=True,  # set input mean to 0 over the dataset\n",
    "    samplewise_center=False,  # set each sample mean to 0\n",
    "    featurewise_std_normalization=True,  # divide inputs by std of the dataset\n",
    "    samplewise_std_normalization=False,  # divide each input by its std\n",
    "    zca_whitening=False,  # apply ZCA whitening\n",
    "    rotation_range=0,  # randomly rotate images in the range (degrees, 0 to 180)\n",
    "    width_shift_range=0.2,  # randomly shift images horizontally (fraction of total width)\n",
    "    height_shift_range=0.2,  # randomly shift images vertically (fraction of total height)\n",
    "    horizontal_flip=True,  # randomly flip images\n",
    "    vertical_flip=False)  # randomly flip images\n",
    "\n",
    "generated_images.fit(X_train)"
   ]
  },
  {
   "cell_type": "markdown",
   "metadata": {},
   "source": [
    "Далее, продолжаем по https://github.com/fchollet/keras/blob/master/examples/cifar10_cnn.py"
   ]
  },
  {
   "cell_type": "code",
   "execution_count": null,
   "metadata": {
    "collapsed": true
   },
   "outputs": [],
   "source": []
  }
 ],
 "metadata": {
  "anaconda-cloud": {},
  "kernelspec": {
   "display_name": "Python 2",
   "language": "python",
   "name": "python2"
  },
  "language_info": {
   "codemirror_mode": {
    "name": "ipython",
    "version": 2
   },
   "file_extension": ".py",
   "mimetype": "text/x-python",
   "name": "python",
   "nbconvert_exporter": "python",
   "pygments_lexer": "ipython2",
   "version": "2.7.14"
  },
  "nav_menu": {},
  "toc": {
   "colors": {
    "hover_highlight": "#DAA520",
    "navigate_num": "#000000",
    "navigate_text": "#333333",
    "running_highlight": "#FF0000",
    "selected_highlight": "#FFD700",
    "sidebar_border": "#EEEEEE",
    "wrapper_background": "#FFFFFF"
   },
   "moveMenuLeft": true,
   "nav_menu": {
    "height": "254px",
    "width": "253px"
   },
   "navigate_menu": true,
   "number_sections": false,
   "sideBar": true,
   "threshold": 4,
   "toc_cell": false,
   "toc_section_display": "block",
   "toc_window_display": false,
   "widenNotebook": false
  }
 },
 "nbformat": 4,
 "nbformat_minor": 1
}
